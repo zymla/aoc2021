{
 "cells": [
  {
   "cell_type": "code",
   "execution_count": 39,
   "id": "c123a92e-1b09-47c6-9dad-2bace8270617",
   "metadata": {},
   "outputs": [
    {
     "name": "stdout",
     "output_type": "stream",
     "text": [
      "[({(<(())[]>[[{[]{<()<>>\n",
      "[(()[<>])]({[<{<<[]>>(\n",
      "{([(<{}[<>[]}>{[]{[(<()>\n",
      "(((({<>}<{<{<>}{[]{[]{}\n",
      "[[<[([]))<([[{}[[()]]]\n",
      "[{[{({}]{}}([{[{{{}}([]\n",
      "{<[[]]>}<{[{[{[]{()[[[]\n",
      "[<(<(<(<{}))><([]([]()\n",
      "<{([([[(<>()){}]>(<<{{\n",
      "<{([{{}}[<[[[<>{}]]]>[]]\n",
      "\n"
     ]
    }
   ],
   "source": [
    "with open('input_day10_stg.txt', 'rt') as f:\n",
    "    input=f.read() #[x for x in f.read().split('\\n') if x != '']\n",
    "print(input[0:500])"
   ]
  },
  {
   "cell_type": "code",
   "execution_count": 56,
   "id": "7b82263b-30e5-411c-a29e-1cb977276686",
   "metadata": {},
   "outputs": [
    {
     "name": "stdout",
     "output_type": "stream",
     "text": [
      "((((<([<{(<(<[<><>>[{}()]>{{()[]}<[][]>}){{(()<>)(<>())}}>{<(([]())({}<>))[<{}()>{{}{}}]>}){{<\n",
      "<{<[([{<{{<{[({}())[<>()]]([{}()]{{}[]})}{([[]]<{}[]>){<<>[]><<>[]>}}>}}{[{[{[[]{}]<[][]>>{[<\n",
      "[([<[(({(<[<[(<><>)([]())][((){})<<>[]>]>{([<>()]<<>[]>)({{}<>})}][{(<()()>{<><>}){[<>[]][<\n",
      "[<[[[{{<{{((<[[][]][[]<>]><({}[])>){{[<>()]{{}{}}}<(()())[<>[]]}}){[(({}{}))](<(<>)>{(<>())(<>[])})}}<<[<<<><\n",
      "{{{[{[[{{{{{<<{}<>>{{}[]}>[{<>()}<<>{}>]}<{<<>{}>{[]<>}}({<>()}<(){}>)>}[[(([]<>)<{}()>)]{{[<>{}](<><>)}{([\n",
      "{\n"
     ]
    }
   ],
   "source": [
    "with open('input_day10_prd.txt', 'rt') as f:\n",
    "    input=f.read() #[x for x in f.read().split('\\n') if x != '']\n",
    "print(input[0:500])"
   ]
  },
  {
   "cell_type": "code",
   "execution_count": 41,
   "id": "42f7fddc-f496-4ffc-b0b7-ec209e64950f",
   "metadata": {},
   "outputs": [
    {
     "data": {
      "text/plain": [
       "26397"
      ]
     },
     "execution_count": 41,
     "metadata": {},
     "output_type": "execute_result"
    }
   ],
   "source": [
    "l={\n",
    "    '(': ')',\n",
    "    '[': ']',\n",
    "    '{': '}',\n",
    "    '<': '>'\n",
    "}\n",
    "r=dict([(v, k) for k, v in l.items()])\n",
    "pts_ref={\n",
    "    ')': 3,\n",
    "    ']': 57,\n",
    "    '}': 1197,\n",
    "    '>': 25137\n",
    "}\n",
    "pts=[]\n",
    "for line in input.splitlines():\n",
    "    stack=[]\n",
    "    for c in line:\n",
    "        if c in l.keys():\n",
    "            stack.append(c)\n",
    "        elif c in r.keys():\n",
    "            if c==l[stack[-1]]:\n",
    "                stack.pop()\n",
    "            else:\n",
    "                pts.append(pts_ref[c])\n",
    "                break\n",
    "        \n",
    "sum(pts)"
   ]
  },
  {
   "cell_type": "code",
   "execution_count": 42,
   "id": "0f5acf1b-8484-4b24-abc7-82c6fac4ed24",
   "metadata": {},
   "outputs": [],
   "source": [
    "# Part2"
   ]
  },
  {
   "cell_type": "code",
   "execution_count": 57,
   "id": "c2feb29b-bd1b-46c1-ace1-803da395214e",
   "metadata": {},
   "outputs": [
    {
     "data": {
      "text/plain": [
       "3662008566"
      ]
     },
     "execution_count": 57,
     "metadata": {},
     "output_type": "execute_result"
    }
   ],
   "source": [
    "l={\n",
    "    '(': ')',\n",
    "    '[': ']',\n",
    "    '{': '}',\n",
    "    '<': '>'\n",
    "}\n",
    "r=dict([(v, k) for k, v in l.items()])\n",
    "pts_complete_ref={\n",
    "    ')': 1,\n",
    "    ']': 2,\n",
    "    '}': 3,\n",
    "    '>': 4\n",
    "}\n",
    "pts_complete=[]\n",
    "for line in input.splitlines():\n",
    "    stack=[]\n",
    "    for c in line:\n",
    "        if c in l.keys():\n",
    "            stack.append(c)\n",
    "        elif c in r.keys():\n",
    "            if c==l[stack[-1]]:\n",
    "                stack.pop()\n",
    "            else:\n",
    "                stack=[]\n",
    "                break\n",
    "    pts_row=0\n",
    "    for x in [pts_complete_ref[l[c]] for c in stack][::-1]:\n",
    "        pts_row*=5\n",
    "        pts_row+=x\n",
    "    if pts_row >0:\n",
    "        pts_complete.append(pts_row)\n",
    "        \n",
    "sorted(pts_complete)[len(pts_complete)//2]"
   ]
  },
  {
   "cell_type": "code",
   "execution_count": null,
   "id": "71f16d58-dffc-4cf0-b1c2-ae836d5d3a5a",
   "metadata": {},
   "outputs": [],
   "source": []
  }
 ],
 "metadata": {
  "kernelspec": {
   "display_name": "Python 3 (ipykernel)",
   "language": "python",
   "name": "python3"
  },
  "language_info": {
   "codemirror_mode": {
    "name": "ipython",
    "version": 3
   },
   "file_extension": ".py",
   "mimetype": "text/x-python",
   "name": "python",
   "nbconvert_exporter": "python",
   "pygments_lexer": "ipython3",
   "version": "3.10.0"
  }
 },
 "nbformat": 4,
 "nbformat_minor": 5
}
