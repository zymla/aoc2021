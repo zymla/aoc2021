{
 "cells": [
  {
   "cell_type": "code",
   "execution_count": 1,
   "id": "b6d77710-b846-4352-bd69-6a7144917ad6",
   "metadata": {},
   "outputs": [],
   "source": [
    "import numpy as np\n",
    "from collections import Counter\n",
    "import re\n",
    "import datetime\n",
    "import pandas as pd"
   ]
  },
  {
   "cell_type": "code",
   "execution_count": 2,
   "id": "37c06fe6-6f07-4930-9116-c973e5ae1b04",
   "metadata": {},
   "outputs": [
    {
     "name": "stdout",
     "output_type": "stream",
     "text": [
      "['NNCB', '', 'CH -> B', 'HH -> N', 'CB -> H', 'NH -> C', 'HB -> C', 'HC -> B', 'HN -> C', 'NN -> C']\n"
     ]
    }
   ],
   "source": [
    "with open('input_day14_stg.txt', 'rt') as f:\n",
    "    input_raw=f.read().splitlines()\n",
    "print(input_raw[0:10])"
   ]
  },
  {
   "cell_type": "code",
   "execution_count": 3,
   "id": "ff560008-1f6e-4102-8cdd-6b7cca39b89a",
   "metadata": {},
   "outputs": [
    {
     "name": "stdout",
     "output_type": "stream",
     "text": [
      "['SHHNCOPHONHFBVNKCFFC', '', 'HH -> K', 'PS -> P', 'BV -> H', 'HB -> H', 'CK -> F', 'FN -> B', 'PV -> S', 'KK -> F']\n"
     ]
    }
   ],
   "source": [
    "with open('input_day14_prd.txt', 'rt') as f:\n",
    "    input_raw=f.read().splitlines()\n",
    "print(input_raw[0:10])"
   ]
  },
  {
   "cell_type": "code",
   "execution_count": 4,
   "id": "d8def276-76f6-4403-af9d-b657397f60ff",
   "metadata": {},
   "outputs": [
    {
     "data": {
      "text/plain": [
       "{'HH': 'K',\n",
       " 'PS': 'P',\n",
       " 'BV': 'H',\n",
       " 'HB': 'H',\n",
       " 'CK': 'F',\n",
       " 'FN': 'B',\n",
       " 'PV': 'S',\n",
       " 'KK': 'F',\n",
       " 'OF': 'C',\n",
       " 'SF': 'B',\n",
       " 'KB': 'S',\n",
       " 'HO': 'O',\n",
       " 'NH': 'N',\n",
       " 'ON': 'V',\n",
       " 'VF': 'K',\n",
       " 'VP': 'K',\n",
       " 'PH': 'K',\n",
       " 'FF': 'V',\n",
       " 'OV': 'N',\n",
       " 'BO': 'K',\n",
       " 'PO': 'S',\n",
       " 'CH': 'N',\n",
       " 'FO': 'V',\n",
       " 'FB': 'H',\n",
       " 'FV': 'N',\n",
       " 'FK': 'S',\n",
       " 'VC': 'V',\n",
       " 'CP': 'K',\n",
       " 'CO': 'K',\n",
       " 'SV': 'N',\n",
       " 'PP': 'B',\n",
       " 'BS': 'P',\n",
       " 'VS': 'C',\n",
       " 'HV': 'H',\n",
       " 'NN': 'F',\n",
       " 'NK': 'C',\n",
       " 'PC': 'V',\n",
       " 'HS': 'S',\n",
       " 'FS': 'S',\n",
       " 'OB': 'S',\n",
       " 'VV': 'N',\n",
       " 'VO': 'P',\n",
       " 'KV': 'F',\n",
       " 'SK': 'O',\n",
       " 'BC': 'P',\n",
       " 'BP': 'F',\n",
       " 'NS': 'P',\n",
       " 'SN': 'S',\n",
       " 'NC': 'N',\n",
       " 'FC': 'V',\n",
       " 'CN': 'S',\n",
       " 'OK': 'B',\n",
       " 'SC': 'N',\n",
       " 'HN': 'B',\n",
       " 'HP': 'B',\n",
       " 'KP': 'B',\n",
       " 'CB': 'K',\n",
       " 'KF': 'C',\n",
       " 'OS': 'B',\n",
       " 'BH': 'O',\n",
       " 'PN': 'K',\n",
       " 'VN': 'O',\n",
       " 'KH': 'F',\n",
       " 'BF': 'H',\n",
       " 'HF': 'K',\n",
       " 'HC': 'P',\n",
       " 'NP': 'H',\n",
       " 'KO': 'K',\n",
       " 'CF': 'H',\n",
       " 'BK': 'O',\n",
       " 'OH': 'P',\n",
       " 'SO': 'F',\n",
       " 'BB': 'F',\n",
       " 'VB': 'K',\n",
       " 'SP': 'O',\n",
       " 'SH': 'O',\n",
       " 'PK': 'O',\n",
       " 'HK': 'P',\n",
       " 'CC': 'V',\n",
       " 'NB': 'O',\n",
       " 'NV': 'F',\n",
       " 'OO': 'F',\n",
       " 'VK': 'V',\n",
       " 'FH': 'H',\n",
       " 'SS': 'C',\n",
       " 'NO': 'P',\n",
       " 'CS': 'H',\n",
       " 'BN': 'V',\n",
       " 'FP': 'N',\n",
       " 'OP': 'N',\n",
       " 'PB': 'P',\n",
       " 'OC': 'O',\n",
       " 'SB': 'V',\n",
       " 'VH': 'O',\n",
       " 'KS': 'B',\n",
       " 'PF': 'N',\n",
       " 'KN': 'H',\n",
       " 'NF': 'N',\n",
       " 'CV': 'K',\n",
       " 'KC': 'B'}"
      ]
     },
     "execution_count": 4,
     "metadata": {},
     "output_type": "execute_result"
    }
   ],
   "source": [
    "tr_tab=dict([x.split(' -> ') for x in input_raw[2:]])\n",
    "tr_tab"
   ]
  },
  {
   "cell_type": "code",
   "execution_count": 5,
   "id": "525a369e-8bff-48ef-a699-d641d3ba7261",
   "metadata": {},
   "outputs": [
    {
     "name": "stdout",
     "output_type": "stream",
     "text": [
      "SHHNCOPHONHFBVNKCFFC\n",
      "0 \t 2021-12-14T13:46:02.876109\t20\t{'S': 1, 'H': 4, 'N': 3, 'C': 3, 'O': 2, 'P': 1, 'F': 3, 'B': 1, 'V': 1, 'K': 1}\tSHHNCOPHONHFBVNKCFFC\n",
      "1 \t 2021-12-14T13:46:02.876748\t39\t{'S': 1, 'O': 5, 'H': 7, 'K': 5, 'B': 3, 'N': 6, 'C': 4, 'P': 1, 'V': 4, 'F': 3}\tSOHKHBNNCKONPKHOOVNNHKFHBHVONCKBCHFVFVC\n",
      "2 \t 2021-12-14T13:46:02.876975\t77\t{'S': 2, 'F': 11, 'O': 9, 'P': 6, 'H': 12, 'K': 8, 'B': 3, 'V': 8, 'N': 13, 'C': 5}\tSFOPHPKFHHBVNFNNCFKKOVNHPOKFHOOFONVONFNNHPKCFHHHBOHHVPOVNNCFKSBPCNHKFNVKFNVVC\n",
      "3 \t 2021-12-14T13:46:02.877179\t153\t{'S': 7, 'B': 14, 'F': 20, 'V': 16, 'O': 15, 'N': 24, 'P': 9, 'K': 16, 'H': 22, 'C': 10}\tSBFVONPKHBPOKCFHHKHHBHVONNFBNFNNCHFSKFKKONVONNHBPSOBKCFHHOOFOCFVOVNFVPOVNNFBNFNNHBPOKBCHFHHKHKHHBKOPHKHHVKPSONVONFNNCHFSKBSVBFPVCSNNHPKCFBNFVVKCFBNFVNVVC\n",
      "4 \t 2021-12-14T13:46:02.877524\t305\t{'S': 18, 'V': 32, 'B': 25, 'H': 45, 'F': 42, 'N': 52, 'P': 22, 'O': 27, 'K': 30, 'C': 12}\tSVBHFNVPOVNHPOKFHHBFPSOBKBCHFHHKHPKFHKHHBOHHVPOVNFNNFHBVNNFBNFNNCNHKFSSOKCFSKFKKOVNFVPOVNFNNHHBFPPSFOSBOKBCHFHHKHOOFOCFVOOCHFNVPONVONNFNVKPSONVONFNNFHBVNNFBNFNNHHBFPSOBKSBPCNHKFHHKHPKFHPKFHKHHBOKKONPKHPKFHKHHVVKBPPSFOVNFVPOVNNFBNFNNCNHKFSSOKSBPSNVKBHFNPSVVCHSSNFNNHBPOKBCHFHBVNNFNVNVVKBCHFHBVNNFNVONFVNVVC\n",
      "5 \t 2021-12-14T13:46:02.877911\t609\t{'S': 43, 'N': 104, 'V': 54, 'K': 58, 'B': 58, 'O': 52, 'H': 83, 'F': 85, 'P': 47, 'C': 25}\t\n",
      "6 \t 2021-12-14T13:46:02.878521\t1217\t{'S': 85, 'N': 200, 'F': 163, 'V': 119, 'K': 104, 'B': 131, 'O': 95, 'P': 101, 'H': 170, 'C': 49}\t\n",
      "7 \t 2021-12-14T13:46:02.879763\t2433\t{'S': 182, 'C': 81, 'N': 410, 'F': 320, 'V': 212, 'K': 218, 'B': 270, 'O': 179, 'P': 210, 'H': 351}\t\n",
      "8 \t 2021-12-14T13:46:02.881443\t4865\t{'S': 368, 'N': 812, 'C': 163, 'H': 692, 'F': 640, 'B': 540, 'V': 427, 'O': 339, 'K': 439, 'P': 445}\t\n",
      "9 \t 2021-12-14T13:46:02.884412\t9729\t{'S': 742, 'N': 1624, 'C': 326, 'H': 1412, 'F': 1256, 'B': 1100, 'V': 815, 'P': 898, 'O': 659, 'K': 897}\t\n",
      "10 \t 2021-12-14T13:46:02.909062\t19457\t{'S': 1483, 'C': 651, 'N': 3200, 'F': 2516, 'H': 2871, 'B': 2219, 'V': 1588, 'O': 1294, 'K': 1785, 'P': 1850}\t\n"
     ]
    }
   ],
   "source": [
    "poly_temp=input_raw[0]\n",
    "print(poly_temp)\n",
    "print(0, '\\t', datetime.datetime.now().isoformat(), end='\\t')\n",
    "print(len(poly_temp), dict(Counter(poly_temp)), poly_temp , sep='\\t')\n",
    "for i in range(10):\n",
    "    poly_temp_next=''\n",
    "    print(i+1, '\\t', datetime.datetime.now().isoformat(), end='\\t')\n",
    "    for j in range(len(poly_temp)-1):\n",
    "        poly_temp_next+=poly_temp[j]+tr_tab.get(poly_temp[j:j+2], '')\n",
    "    poly_temp=poly_temp_next+poly_temp[-1]\n",
    "    print(len(poly_temp), dict(Counter(poly_temp)), poly_temp if i < 4 else '', sep='\\t')"
   ]
  },
  {
   "cell_type": "code",
   "execution_count": 6,
   "id": "a1a9dfb8-2a5c-4c97-8cc6-a722756c3f25",
   "metadata": {},
   "outputs": [
    {
     "data": {
      "text/plain": [
       "Counter({'S': 1483,\n",
       "         'C': 651,\n",
       "         'N': 3200,\n",
       "         'F': 2516,\n",
       "         'H': 2871,\n",
       "         'B': 2219,\n",
       "         'V': 1588,\n",
       "         'O': 1294,\n",
       "         'K': 1785,\n",
       "         'P': 1850})"
      ]
     },
     "execution_count": 6,
     "metadata": {},
     "output_type": "execute_result"
    }
   ],
   "source": [
    "ctr=Counter(poly_temp)\n",
    "ctr"
   ]
  },
  {
   "cell_type": "code",
   "execution_count": 7,
   "id": "a29fc5f1-2f55-4c76-a059-054f606fb324",
   "metadata": {},
   "outputs": [
    {
     "data": {
      "text/plain": [
       "2549"
      ]
     },
     "execution_count": 7,
     "metadata": {},
     "output_type": "execute_result"
    }
   ],
   "source": [
    "sorted(ctr.values())[-1]-sorted(ctr.values())[0]"
   ]
  },
  {
   "cell_type": "code",
   "execution_count": 8,
   "id": "56b2b271-439a-4df7-8391-eaea84b3d9dc",
   "metadata": {
    "tags": []
   },
   "outputs": [],
   "source": [
    "#part 2"
   ]
  },
  {
   "cell_type": "code",
   "execution_count": 10,
   "id": "d41ef067-bd4e-444b-911e-e6631ac2434b",
   "metadata": {},
   "outputs": [
    {
     "name": "stdout",
     "output_type": "stream",
     "text": [
      "['HH', 'PS', 'BV', 'HB', 'CK', 'FN', 'PV', 'KK', 'OF', 'SF', 'KB', 'HO', 'NH', 'ON', 'VF', 'VP', 'PH', 'FF', 'OV', 'BO', 'PO', 'CH', 'FO', 'FB', 'FV', 'FK', 'VC', 'CP', 'CO', 'SV', 'PP', 'BS', 'VS', 'HV', 'NN', 'NK', 'PC', 'HS', 'FS', 'OB', 'VV', 'VO', 'KV', 'SK', 'BC', 'BP', 'NS', 'SN', 'NC', 'FC', 'CN', 'OK', 'SC', 'HN', 'HP', 'KP', 'CB', 'KF', 'OS', 'BH', 'PN', 'VN', 'KH', 'BF', 'HF', 'HC', 'NP', 'KO', 'CF', 'BK', 'OH', 'SO', 'BB', 'VB', 'SP', 'SH', 'PK', 'HK', 'CC', 'NB', 'NV', 'OO', 'VK', 'FH', 'SS', 'NO', 'CS', 'BN', 'FP', 'OP', 'PB', 'OC', 'SB', 'VH', 'KS', 'PF', 'KN', 'NF', 'CV', 'KC']\n",
      "['H', 'B', 'S', 'O', 'P', 'C', 'F', 'V', 'N', 'K']\n"
     ]
    }
   ],
   "source": [
    "keys_digram=list(tr_tab.keys())\n",
    "print(keys_digram)\n",
    "keys_letters=list(set(list(''.join(keys_digram))))\n",
    "print(keys_letters)"
   ]
  },
  {
   "cell_type": "code",
   "execution_count": 11,
   "id": "a53f8476-a2fd-4558-853a-316a2f039771",
   "metadata": {},
   "outputs": [
    {
     "name": "stdout",
     "output_type": "stream",
     "text": [
      "{'HH': 1, 'BV': 1, 'HO': 1, 'NH': 1, 'ON': 1, 'PH': 1, 'FF': 1, 'FB': 1, 'CO': 1, 'NK': 1, 'NC': 1, 'FC': 1, 'HN': 1, 'VN': 1, 'HF': 1, 'CF': 1, 'SH': 1, 'OP': 1, 'KC': 1}\n",
      "{'H': 4, 'B': 1, 'S': 1, 'O': 2, 'P': 1, 'C': 3, 'F': 3, 'V': 1, 'N': 3, 'K': 1}\n",
      "1 \t {'H': 7, 'B': 3, 'S': 1, 'O': 5, 'P': 1, 'C': 4, 'F': 3, 'V': 4, 'N': 6, 'K': 5}\n",
      "2 \t {'H': 12, 'B': 3, 'S': 2, 'O': 9, 'P': 6, 'C': 5, 'F': 11, 'V': 8, 'N': 13, 'K': 8}\n",
      "3 \t {'H': 22, 'B': 14, 'S': 7, 'O': 15, 'P': 9, 'C': 10, 'F': 20, 'V': 16, 'N': 24, 'K': 16}\n",
      "4 \t {'H': 45, 'B': 25, 'S': 18, 'O': 27, 'P': 22, 'C': 12, 'F': 42, 'V': 32, 'N': 52, 'K': 30}\n",
      "5 \t {'H': 83, 'B': 58, 'S': 43, 'O': 52, 'P': 47, 'C': 25, 'F': 85, 'V': 54, 'N': 104, 'K': 58}\n",
      "6 \t {'H': 170, 'B': 131, 'S': 85, 'O': 95, 'P': 101, 'C': 49, 'F': 163, 'V': 119, 'N': 200, 'K': 104}\n",
      "7 \t {'H': 351, 'B': 270, 'S': 182, 'O': 179, 'P': 210, 'C': 81, 'F': 320, 'V': 212, 'N': 410, 'K': 218}\n",
      "8 \t {'H': 692, 'B': 540, 'S': 368, 'O': 339, 'P': 445, 'C': 163, 'F': 640, 'V': 427, 'N': 812, 'K': 439}\n",
      "9 \t {'H': 1412, 'B': 1100, 'S': 742, 'O': 659, 'P': 898, 'C': 326, 'F': 1256, 'V': 815, 'N': 1624, 'K': 897}\n",
      "10 \t {'H': 2871, 'B': 2219, 'S': 1483, 'O': 1294, 'P': 1850, 'C': 651, 'F': 2516, 'V': 1588, 'N': 3200, 'K': 1785}\n",
      "11 \t {'H': 5784, 'B': 4471, 'S': 2986, 'O': 2555, 'P': 3712, 'C': 1324, 'F': 4970, 'V': 3054, 'N': 6427, 'K': 3630}\n",
      "12 \t {'H': 11706, 'B': 8935, 'S': 5988, 'O': 5065, 'P': 7536, 'C': 2698, 'F': 9971, 'V': 5954, 'N': 12683, 'K': 7289}\n",
      "13 \t {'H': 23562, 'B': 18001, 'S': 12039, 'O': 10085, 'P': 15118, 'C': 5452, 'F': 19776, 'V': 11604, 'N': 25309, 'K': 14703}\n",
      "14 \t {'H': 47342, 'B': 36090, 'S': 24274, 'O': 20039, 'P': 30454, 'C': 11105, 'F': 39499, 'V': 22813, 'N': 50198, 'K': 29483}\n",
      "15 \t {'H': 95107, 'B': 72449, 'S': 48886, 'O': 39981, 'P': 60940, 'C': 22464, 'F': 78615, 'V': 44852, 'N': 100019, 'K': 59280}\n",
      "16 \t {'H': 190771, 'B': 145132, 'S': 98547, 'O': 79630, 'P': 122264, 'C': 45396, 'F': 156897, 'V': 88739, 'N': 198954, 'K': 118855}\n",
      "17 \t {'H': 382012, 'B': 290897, 'S': 198692, 'O': 158942, 'P': 244622, 'C': 91720, 'F': 312513, 'V': 175709, 'N': 396833, 'K': 238429}\n",
      "18 \t {'H': 764858, 'B': 582374, 'S': 400210, 'O': 316993, 'P': 489827, 'C': 185050, 'F': 623752, 'V': 349002, 'N': 791001, 'K': 477670}\n",
      "19 \t {'H': 1530106, 'B': 1165832, 'S': 806245, 'O': 632970, 'P': 979370, 'C': 372899, 'F': 1244049, 'V': 693515, 'N': 1579684, 'K': 956803}\n",
      "20 \t {'H': 3059948, 'B': 2332675, 'S': 1622975, 'O': 1263104, 'P': 1958855, 'C': 751090, 'F': 2483868, 'V': 1381131, 'N': 3154549, 'K': 1914750}\n",
      "21 \t {'H': 6117865, 'B': 4666462, 'S': 3265656, 'O': 2522596, 'P': 3915185, 'C': 1511448, 'F': 4958278, 'V': 2750899, 'N': 6306276, 'K': 3831224}\n",
      "22 \t {'H': 12229935, 'B': 9333102, 'S': 6566274, 'O': 5036202, 'P': 7826547, 'C': 3039584, 'F': 9904263, 'V': 5486351, 'N': 12608298, 'K': 7661221}\n",
      "23 \t {'H': 24446306, 'B': 18663279, 'S': 13197693, 'O': 10058954, 'P': 15639185, 'C': 6109159, 'F': 19782831, 'V': 10943344, 'N': 25224722, 'K': 15318080}\n",
      "24 \t {'H': 48867295, 'B': 37316199, 'S': 26508451, 'O': 20088308, 'P': 31252833, 'C': 12271385, 'F': 39532217, 'V': 21844345, 'N': 50468345, 'K': 30617727}\n",
      "25 \t {'H': 97685163, 'B': 74603537, 'S': 53221477, 'O': 40128229, 'P': 62443572, 'C': 24637170, 'F': 78997198, 'V': 43610529, 'N': 101012702, 'K': 61194632}\n",
      "26 \t {'H': 195285970, 'B': 149141029, 'S': 106797107, 'O': 80158514, 'P': 124768214, 'C': 49441571, 'F': 157905520, 'V': 87101462, 'N': 202178228, 'K': 122290802}\n",
      "27 \t {'H': 390430423, 'B': 298131674, 'S': 214220732, 'O': 160150652, 'P': 249282096, 'C': 99178892, 'F': 315642966, 'V': 173983315, 'N': 404731153, 'K': 244384930}\n",
      "28 \t {'H': 780640587, 'B': 595954201, 'S': 429519082, 'O': 319980231, 'P': 498077507, 'C': 198877668, 'F': 631063274, 'V': 347613971, 'N': 810185013, 'K': 488362131}\n",
      "29 \t {'H': 1560948769, 'B': 1191267704, 'S': 860917514, 'O': 639404641, 'P': 995182385, 'C': 398672805, 'F': 1261725250, 'V': 694587455, 'N': 1621891469, 'K': 975949337}\n",
      "30 \t {'H': 3121454505, 'B': 2381283227, 'S': 1725045483, 'O': 1277775723, 'P': 1988524627, 'C': 798951363, 'F': 2522926079, 'V': 1388104496, 'N': 3246625411, 'K': 1950403743}\n",
      "31 \t {'H': 6242376291, 'B': 4760106402, 'S': 3455631083, 'O': 2553747680, 'P': 3973512144, 'C': 1600720938, 'F': 5044953181, 'V': 2774279695, 'N': 6498806097, 'K': 3898055802}\n",
      "32 \t {'H': 12484325107, 'B': 9515553822, 'S': 6920691152, 'O': 5104220652, 'P': 7940426317, 'C': 3206355866, 'F': 10088765090, 'V': 5545253559, 'N': 13007753791, 'K': 7791033269}\n",
      "33 \t {'H': 24968774322, 'B': 19022270964, 'S': 13857518731, 'O': 10202719303, 'P': 15868514602, 'C': 6421296335, 'F': 20175683034, 'V': 11084597761, 'N': 26034443093, 'K': 15572939104}\n",
      "34 \t {'H': 49939395819, 'B': 38028199854, 'S': 27742410596, 'O': 20395230354, 'P': 31714341769, 'C': 12857503234, 'F': 40349152688, 'V': 22158941917, 'N': 52102830241, 'K': 31129508025}\n",
      "35 \t {'H': 99884766037, 'B': 76026169203, 'S': 55531436868, 'O': 40772660941, 'P': 63387084730, 'C': 25740936483, 'F': 80694998872, 'V': 44299677840, 'N': 104267147224, 'K': 62230150795}\n",
      "36 \t {'H': 199784801966, 'B': 151997409257, 'S': 111141793194, 'O': 81513959740, 'P': 126698706318, 'C': 51526754899, 'F': 161386570458, 'V': 88567614624, 'N': 208642848580, 'K': 124409598949}\n",
      "37 \t {'H': 399604183950, 'B': 303895168597, 'S': 222417544428, 'O': 162973424662, 'P': 253261176850, 'C': 103131236649, 'F': 322768818021, 'V': 177079285549, 'N': 417478152489, 'K': 248731124774}\n",
      "38 \t {'H': 799282025290, 'B': 607611859791, 'S': 445061698090, 'O': 325851740780, 'P': 506278191253, 'C': 206396587887, 'F': 645535335072, 'V': 354061030063, 'N': 835291830185, 'K': 497309933526}\n",
      "39 \t {'H': 1598713834088, 'B': 1214904792466, 'S': 890507450436, 'O': 651538861876, 'P': 1012121079454, 'C': 413024591549, 'F': 1291070995826, 'V': 707951306864, 'N': 1671169118782, 'K': 994358432532}\n",
      "40 \t {'H': 3197723180728, 'B': 2429245101465, 'S': 1781664690505, 'O': 1302792457115, 'P': 2023470245766, 'C': 826447333421, 'F': 2582153750303, 'V': 1415605689605, 'N': 3343348437631, 'K': 1988270041206}\n"
     ]
    }
   ],
   "source": [
    "poly_init=input_raw[0]\n",
    "digram_count_np=np.zeros(len(keys_digram)).astype('int')\n",
    "for i in range(len(poly_init)-1):\n",
    "    digram_count_np[keys_digram.index(poly_init[i:i+2])]+=1\n",
    "print({keys_digram[i]: n for i, n in enumerate(digram_count_np) if n > 0})\n",
    "\n",
    "letter_count_np=np.zeros(len(keys_letters)).astype('int')\n",
    "for i in range(len(poly_init)):\n",
    "    letter_count_np[keys_letters.index(poly_init[i])]+=1\n",
    "print({keys_letters[i]: n for i, n in enumerate(letter_count_np) if n > 0})\n",
    "\n",
    "for i in range(40):\n",
    "    digram_count_np_old=digram_count_np.copy()\n",
    "    for j in range(len(digram_count_np)):\n",
    "        letter_count_np[keys_letters.index(tr_tab[keys_digram[j]])]+=digram_count_np_old[j]\n",
    "        digram_count_np[keys_digram.index(keys_digram[j][0]+tr_tab[keys_digram[j]])]+=digram_count_np_old[j]\n",
    "        digram_count_np[keys_digram.index(tr_tab[keys_digram[j]]+keys_digram[j][1])]+=digram_count_np_old[j]\n",
    "        digram_count_np[keys_digram.index(keys_digram[j])]-=digram_count_np_old[j]\n",
    "    print(i+1, '\\t', {keys_letters[i]: n for i, n in enumerate(letter_count_np) if n > 0})"
   ]
  },
  {
   "cell_type": "code",
   "execution_count": 12,
   "id": "adf54dd6-5785-40b0-936b-8363fbb09afd",
   "metadata": {},
   "outputs": [
    {
     "data": {
      "text/plain": [
       "2516901104210"
      ]
     },
     "execution_count": 12,
     "metadata": {},
     "output_type": "execute_result"
    }
   ],
   "source": [
    "sorted(letter_count_np)[-1]-sorted(letter_count_np)[0]"
   ]
  },
  {
   "cell_type": "code",
   "execution_count": null,
   "id": "603def45-0321-4583-88b4-21f3ee0452b8",
   "metadata": {},
   "outputs": [],
   "source": []
  }
 ],
 "metadata": {
  "kernelspec": {
   "display_name": "Python 3 (ipykernel)",
   "language": "python",
   "name": "python3"
  },
  "language_info": {
   "codemirror_mode": {
    "name": "ipython",
    "version": 3
   },
   "file_extension": ".py",
   "mimetype": "text/x-python",
   "name": "python",
   "nbconvert_exporter": "python",
   "pygments_lexer": "ipython3",
   "version": "3.10.0"
  }
 },
 "nbformat": 4,
 "nbformat_minor": 5
}
