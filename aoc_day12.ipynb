{
 "cells": [
  {
   "cell_type": "code",
   "execution_count": 1,
   "id": "82812190-2e9f-46d0-bb3a-9144d22b34e3",
   "metadata": {},
   "outputs": [],
   "source": [
    "import numpy as np\n",
    "import re"
   ]
  },
  {
   "cell_type": "code",
   "execution_count": 2,
   "id": "de04f9fc-f463-45a8-9f8a-b15cdbeaaadc",
   "metadata": {},
   "outputs": [
    {
     "name": "stdout",
     "output_type": "stream",
     "text": [
      "start-A\n",
      "start-b\n",
      "A-c\n",
      "A-b\n",
      "b-d\n",
      "A-end\n",
      "b-end\n",
      "\n"
     ]
    }
   ],
   "source": [
    "with open('input_day12_stg1.txt', 'rt') as f:\n",
    "    input_raw=f.read()\n",
    "print(input_raw[0:500])"
   ]
  },
  {
   "cell_type": "code",
   "execution_count": 3,
   "id": "9f80b4a8-c4e5-474d-81cd-c0eebd3e87a3",
   "metadata": {},
   "outputs": [
    {
     "name": "stdout",
     "output_type": "stream",
     "text": [
      "dc-end\n",
      "HN-start\n",
      "start-kj\n",
      "dc-start\n",
      "dc-HN\n",
      "LN-dc\n",
      "HN-end\n",
      "kj-sa\n",
      "kj-HN\n",
      "kj-dc\n",
      "\n"
     ]
    }
   ],
   "source": [
    "with open('input_day12_stg2.txt', 'rt') as f:\n",
    "    input_raw=f.read()\n",
    "print(input_raw[0:500])"
   ]
  },
  {
   "cell_type": "code",
   "execution_count": 4,
   "id": "e069446c-dba9-49e1-885e-ceee52a0cb2d",
   "metadata": {},
   "outputs": [
    {
     "name": "stdout",
     "output_type": "stream",
     "text": [
      "fs-end\n",
      "he-DX\n",
      "fs-he\n",
      "start-DX\n",
      "pj-DX\n",
      "end-zg\n",
      "zg-sl\n",
      "zg-pj\n",
      "pj-he\n",
      "RW-he\n",
      "fs-DX\n",
      "pj-RW\n",
      "zg-RW\n",
      "start-pj\n",
      "he-WI\n",
      "zg-he\n",
      "pj-fs\n",
      "start-RW\n",
      "\n"
     ]
    }
   ],
   "source": [
    "with open('input_day12_stg3.txt', 'rt') as f:\n",
    "    input_raw=f.read()\n",
    "print(input_raw[0:500])"
   ]
  },
  {
   "cell_type": "code",
   "execution_count": 5,
   "id": "2860287d-78eb-4bb7-bfff-da5b1ef4c2a5",
   "metadata": {},
   "outputs": [
    {
     "name": "stdout",
     "output_type": "stream",
     "text": [
      "he-JK\n",
      "wy-KY\n",
      "pc-XC\n",
      "vt-wy\n",
      "LJ-vt\n",
      "wy-end\n",
      "wy-JK\n",
      "end-LJ\n",
      "start-he\n",
      "JK-end\n",
      "pc-wy\n",
      "LJ-pc\n",
      "at-pc\n",
      "xf-XC\n",
      "XC-he\n",
      "pc-JK\n",
      "vt-XC\n",
      "at-he\n",
      "pc-he\n",
      "start-at\n",
      "start-XC\n",
      "at-LJ\n",
      "vt-JK\n",
      "\n"
     ]
    }
   ],
   "source": [
    "with open('input_day12_prd.txt', 'rt') as f:\n",
    "    input_raw=f.read()\n",
    "print(input_raw[0:500])"
   ]
  },
  {
   "cell_type": "code",
   "execution_count": 6,
   "id": "f27784d6-6ae7-4e19-952e-233cc2b6214e",
   "metadata": {},
   "outputs": [
    {
     "data": {
      "text/plain": [
       "[['he', 'JK'],\n",
       " ['wy', 'KY'],\n",
       " ['pc', 'XC'],\n",
       " ['vt', 'wy'],\n",
       " ['LJ', 'vt'],\n",
       " ['wy', 'end'],\n",
       " ['wy', 'JK'],\n",
       " ['end', 'LJ'],\n",
       " ['start', 'he'],\n",
       " ['JK', 'end']]"
      ]
     },
     "execution_count": 6,
     "metadata": {},
     "output_type": "execute_result"
    }
   ],
   "source": [
    "input=[l.split('-') for l in input_raw.splitlines()]\n",
    "input[0:10]"
   ]
  },
  {
   "cell_type": "code",
   "execution_count": 7,
   "id": "7525e0fc-973b-4dd1-a52c-768f7ae40727",
   "metadata": {},
   "outputs": [
    {
     "data": {
      "text/plain": [
       "[['he', 'JK'],\n",
       " ['wy', 'KY'],\n",
       " ['pc', 'XC'],\n",
       " ['vt', 'wy'],\n",
       " ['LJ', 'vt'],\n",
       " ['wy', 'end'],\n",
       " ['wy', 'JK'],\n",
       " ['end', 'LJ'],\n",
       " ['start', 'he'],\n",
       " ['JK', 'end'],\n",
       " ['pc', 'wy'],\n",
       " ['LJ', 'pc'],\n",
       " ['at', 'pc'],\n",
       " ['xf', 'XC'],\n",
       " ['XC', 'he'],\n",
       " ['pc', 'JK'],\n",
       " ['vt', 'XC'],\n",
       " ['at', 'he'],\n",
       " ['pc', 'he'],\n",
       " ['start', 'at'],\n",
       " ['start', 'XC'],\n",
       " ['at', 'LJ'],\n",
       " ['vt', 'JK'],\n",
       " ['JK', 'he'],\n",
       " ['KY', 'wy'],\n",
       " ['XC', 'pc'],\n",
       " ['wy', 'vt'],\n",
       " ['vt', 'LJ'],\n",
       " ['end', 'wy'],\n",
       " ['JK', 'wy'],\n",
       " ['LJ', 'end'],\n",
       " ['he', 'start'],\n",
       " ['end', 'JK'],\n",
       " ['wy', 'pc'],\n",
       " ['pc', 'LJ'],\n",
       " ['pc', 'at'],\n",
       " ['XC', 'xf'],\n",
       " ['he', 'XC'],\n",
       " ['JK', 'pc'],\n",
       " ['XC', 'vt'],\n",
       " ['he', 'at'],\n",
       " ['he', 'pc'],\n",
       " ['at', 'start'],\n",
       " ['XC', 'start'],\n",
       " ['LJ', 'at'],\n",
       " ['JK', 'vt']]"
      ]
     },
     "execution_count": 7,
     "metadata": {},
     "output_type": "execute_result"
    }
   ],
   "source": [
    "g=input+[[edge[1], edge[0]] for edge in input]\n",
    "g"
   ]
  },
  {
   "cell_type": "code",
   "execution_count": 8,
   "id": "21690dff-e06f-495c-8ee8-ef6a41ebfd22",
   "metadata": {},
   "outputs": [
    {
     "data": {
      "text/plain": [
       "{'JK': ['end', 'he', 'wy', 'pc', 'vt'],\n",
       " 'xf': ['XC'],\n",
       " 'end': ['LJ', 'wy', 'JK'],\n",
       " 'KY': ['wy'],\n",
       " 'XC': ['he', 'pc', 'xf', 'vt', 'start'],\n",
       " 'LJ': ['vt', 'pc', 'end', 'at'],\n",
       " 'pc': ['XC', 'wy', 'JK', 'he', 'LJ', 'at'],\n",
       " 'he': ['JK', 'start', 'XC', 'at', 'pc'],\n",
       " 'vt': ['wy', 'XC', 'JK', 'LJ'],\n",
       " 'at': ['pc', 'he', 'LJ', 'start'],\n",
       " 'start': ['he', 'at', 'XC'],\n",
       " 'wy': ['KY', 'end', 'JK', 'vt', 'pc']}"
      ]
     },
     "execution_count": 8,
     "metadata": {},
     "output_type": "execute_result"
    }
   ],
   "source": [
    "gd={ \n",
    "    s: [ g[i][1] for i, start in enumerate([e[0] for e in g]) if s==start]\n",
    "    for s \n",
    "    in {x[0] for x in g}\n",
    "}\n",
    "gd"
   ]
  },
  {
   "cell_type": "code",
   "execution_count": 9,
   "id": "fad667f2-a01f-498e-9486-ab92a50b0078",
   "metadata": {},
   "outputs": [
    {
     "name": "stdout",
     "output_type": "stream",
     "text": [
      "4104\n"
     ]
    }
   ],
   "source": [
    "paths=[]\n",
    "current_path=['start']\n",
    "def visit(current_path):\n",
    "#    print(' - '*len(current_path), current_path[-1])\n",
    "    for cave in gd[current_path[-1]]:\n",
    "        if cave=='end':\n",
    "            paths.append(current_path+[cave])\n",
    "#            print(current_path+[cave], '<---')\n",
    "        elif cave.isupper() | (cave not in current_path):\n",
    "            visit(current_path+[cave])\n",
    "\n",
    "visit(current_path)\n",
    "    \n",
    "print(len(paths))\n",
    "#paths "
   ]
  },
  {
   "cell_type": "code",
   "execution_count": 10,
   "id": "095604c5-2b69-4911-a4f7-955e1ff31725",
   "metadata": {},
   "outputs": [],
   "source": [
    "# Part 2"
   ]
  },
  {
   "cell_type": "code",
   "execution_count": 11,
   "id": "c18d1d73-eaf0-44b2-8fd7-294620ee3af5",
   "metadata": {},
   "outputs": [
    {
     "name": "stdout",
     "output_type": "stream",
     "text": [
      "119760\n"
     ]
    }
   ],
   "source": [
    "paths=[]\n",
    "current_path=['start']\n",
    "def visit(current_path, double_visit):\n",
    "#    print(' - '*len(current_path), current_path[-1])\n",
    "    for cave in gd[current_path[-1]]:\n",
    "        if cave=='start':\n",
    "            pass\n",
    "        elif cave=='end':\n",
    "            paths.append(current_path+[cave])\n",
    "#            print(current_path+[cave], '<---')\n",
    "        elif cave.isupper() | (cave not in current_path):\n",
    "            visit(current_path+[cave], double_visit)\n",
    "        elif not double_visit:\n",
    "            visit(current_path+[cave], True)\n",
    "\n",
    "visit(current_path, False)\n",
    "    \n",
    "print(len(paths))\n",
    "#paths "
   ]
  },
  {
   "cell_type": "code",
   "execution_count": null,
   "id": "70a4de5a-4707-4254-bf0b-775a2a477d02",
   "metadata": {},
   "outputs": [],
   "source": []
  },
  {
   "cell_type": "code",
   "execution_count": null,
   "id": "40be9c7c-9678-48e5-8f43-03fe0894dfe7",
   "metadata": {},
   "outputs": [],
   "source": []
  }
 ],
 "metadata": {
  "kernelspec": {
   "display_name": "Python 3 (ipykernel)",
   "language": "python",
   "name": "python3"
  },
  "language_info": {
   "codemirror_mode": {
    "name": "ipython",
    "version": 3
   },
   "file_extension": ".py",
   "mimetype": "text/x-python",
   "name": "python",
   "nbconvert_exporter": "python",
   "pygments_lexer": "ipython3",
   "version": "3.10.0"
  }
 },
 "nbformat": 4,
 "nbformat_minor": 5
}
