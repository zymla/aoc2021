{
 "cells": [
  {
   "cell_type": "code",
   "execution_count": 2,
   "id": "53a1cc1f-9050-4afb-b7b0-cbe3aa44922d",
   "metadata": {},
   "outputs": [
    {
     "data": {
      "text/plain": [
       "['00100',\n",
       " '11110',\n",
       " '10110',\n",
       " '10111',\n",
       " '10101',\n",
       " '01111',\n",
       " '00111',\n",
       " '11100',\n",
       " '10000',\n",
       " '11001',\n",
       " '00010',\n",
       " '01010']"
      ]
     },
     "execution_count": 2,
     "metadata": {},
     "output_type": "execute_result"
    }
   ],
   "source": [
    "with open('input_day3_stg.txt', 'rt') as f:\n",
    "    input_stg=[x for x in f.read().split('\\n') if x != '']\n",
    "input_stg"
   ]
  },
  {
   "cell_type": "code",
   "execution_count": 18,
   "id": "7b2d6ee4-ae4d-47f9-8b87-ee196348ce3d",
   "metadata": {},
   "outputs": [
    {
     "data": {
      "text/plain": [
       "['000010000011',\n",
       " '001010000111',\n",
       " '011010000010',\n",
       " '000011111110',\n",
       " '101101000101']"
      ]
     },
     "execution_count": 18,
     "metadata": {},
     "output_type": "execute_result"
    }
   ],
   "source": [
    "with open('input_day3_prd.txt', 'rt') as f:\n",
    "    input_prd=[x for x in f.read().split('\\n') if x != '']\n",
    "input_prd[0:5]"
   ]
  },
  {
   "cell_type": "code",
   "execution_count": 22,
   "id": "91f2ad00-c73e-49b8-946a-3a74ee71a5ca",
   "metadata": {},
   "outputs": [],
   "source": [
    "input=input_prd"
   ]
  },
  {
   "cell_type": "code",
   "execution_count": 26,
   "id": "a2749765-8295-4729-b62b-88e378a22ca4",
   "metadata": {},
   "outputs": [
    {
     "name": "stdout",
     "output_type": "stream",
     "text": [
      "['0', '1', '0', '0', '0', '0', '1', '1', '0', '0', '0', '1'] ['1', '0', '1', '1', '1', '1', '0', '0', '1', '1', '1', '0']\n",
      "(1073, 3022)\n"
     ]
    },
    {
     "data": {
      "text/plain": [
       "3242606"
      ]
     },
     "execution_count": 26,
     "metadata": {},
     "output_type": "execute_result"
    }
   ],
   "source": [
    "n=len(input[0])\n",
    "gamma=[' ']*n\n",
    "epsylon=gamma.copy()\n",
    "for i in range(n):\n",
    "    v=[x[i] for x in input]\n",
    "    gamma[i] = '1' if v.count('1')>v.count('0') else '0'\n",
    "    epsylon[i] = '1' if v.count('1')<v.count('0') else '0'\n",
    "\n",
    "g=int(''.join(gamma), 2)\n",
    "e=int(''.join(epsylon), 2)\n",
    "print(epsylon, gamma)\n",
    "print((e, g))\n",
    "g*e"
   ]
  },
  {
   "cell_type": "code",
   "execution_count": 27,
   "id": "ec1a45fb-1d38-40b1-a206-80ed9bb5ab35",
   "metadata": {},
   "outputs": [],
   "source": [
    "#Part 2"
   ]
  },
  {
   "cell_type": "code",
   "execution_count": 58,
   "id": "9871dc6f-5c77-457b-a913-68ae2a4fb5e9",
   "metadata": {},
   "outputs": [
    {
     "data": {
      "text/plain": [
       "['100011111110',\n",
       " '101001010000',\n",
       " '011100100110',\n",
       " '111000101010',\n",
       " '001111001000']"
      ]
     },
     "execution_count": 58,
     "metadata": {},
     "output_type": "execute_result"
    }
   ],
   "source": [
    "input=input_prd\n",
    "input[-5:]"
   ]
  },
  {
   "cell_type": "code",
   "execution_count": 60,
   "id": "82cd6397-bdcf-439b-a8a6-f00da1581389",
   "metadata": {},
   "outputs": [
    {
     "name": "stdout",
     "output_type": "stream",
     "text": [
      "0 1\n",
      "1 0\n",
      "2 1\n",
      "3 1\n",
      "4 1\n",
      "5 0\n",
      "6 1\n",
      "7 1\n",
      "8 1\n",
      "9 1\n",
      "10 0\n",
      "11 1\n"
     ]
    },
    {
     "data": {
      "text/plain": [
       "['101110111101']"
      ]
     },
     "execution_count": 60,
     "metadata": {},
     "output_type": "execute_result"
    }
   ],
   "source": [
    "n=len(input[0])\n",
    "o2_data=input.copy()\n",
    "for i in range(n):\n",
    "    v=[x[i] for x in o2_data]\n",
    "    bit_criteria = '1' if v.count('1')>=v.count('0') else '0'\n",
    "    print(i, bit_criteria)\n",
    "#    print(o2_data)\n",
    "    o2_data=[x for x in o2_data if x[i]==bit_criteria]\n",
    "o2_data"
   ]
  },
  {
   "cell_type": "code",
   "execution_count": 61,
   "id": "9a88cd75-1724-40b0-a44c-39131bdacb12",
   "metadata": {},
   "outputs": [
    {
     "name": "stdout",
     "output_type": "stream",
     "text": [
      "0 0\n",
      "1 1\n",
      "2 1\n",
      "3 0\n",
      "4 0\n",
      "5 1\n",
      "6 0\n",
      "7 1\n",
      "8 0\n"
     ]
    },
    {
     "data": {
      "text/plain": [
       "['011001010000']"
      ]
     },
     "execution_count": 61,
     "metadata": {},
     "output_type": "execute_result"
    }
   ],
   "source": [
    "n=len(input[0])\n",
    "co2_data=input.copy()\n",
    "for i in range(n):\n",
    "    v=[x[i] for x in co2_data]\n",
    "    bit_criteria = '1' if v.count('1')<v.count('0') else '0'\n",
    "    print(i, bit_criteria)\n",
    "#    print(co2_data)\n",
    "    co2_data=[x for x in co2_data if x[i]==bit_criteria]\n",
    "    if len(co2_data)<=1:\n",
    "        break\n",
    "co2_data"
   ]
  },
  {
   "cell_type": "code",
   "execution_count": 62,
   "id": "6e52d308-22be-418e-9365-4700fb804b20",
   "metadata": {},
   "outputs": [
    {
     "data": {
      "text/plain": [
       "4856080"
      ]
     },
     "execution_count": 62,
     "metadata": {},
     "output_type": "execute_result"
    }
   ],
   "source": [
    "int(o2_data[0], 2)*int(co2_data[0], 2)"
   ]
  },
  {
   "cell_type": "code",
   "execution_count": null,
   "id": "ab76c75b-b3fa-4963-b0f9-b6185d4d8560",
   "metadata": {},
   "outputs": [],
   "source": []
  }
 ],
 "metadata": {
  "kernelspec": {
   "display_name": "Python 3 (ipykernel)",
   "language": "python",
   "name": "python3"
  },
  "language_info": {
   "codemirror_mode": {
    "name": "ipython",
    "version": 3
   },
   "file_extension": ".py",
   "mimetype": "text/x-python",
   "name": "python",
   "nbconvert_exporter": "python",
   "pygments_lexer": "ipython3",
   "version": "3.10.0"
  }
 },
 "nbformat": 4,
 "nbformat_minor": 5
}
