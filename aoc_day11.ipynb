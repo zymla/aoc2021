{
 "cells": [
  {
   "cell_type": "code",
   "execution_count": 72,
   "id": "5c8110f7-1ff9-43e0-b769-4960d6fea9a7",
   "metadata": {},
   "outputs": [],
   "source": [
    "import numpy as np"
   ]
  },
  {
   "cell_type": "code",
   "execution_count": 199,
   "id": "43c8a311-2a72-4356-89ce-9319093801bc",
   "metadata": {},
   "outputs": [
    {
     "name": "stdout",
     "output_type": "stream",
     "text": [
      "5483143223\n",
      "2745854711\n",
      "5264556173\n",
      "6141336146\n",
      "6357385478\n",
      "4167524645\n",
      "2176841721\n",
      "6882881134\n",
      "4846848554\n",
      "5283751526\n",
      "\n"
     ]
    }
   ],
   "source": [
    "with open('input_day11_stg.txt', 'rt') as f:\n",
    "    input_raw=f.read() #[x for x in f.read().split('\\n') if x != '']\n",
    "print(input_raw[0:500])"
   ]
  },
  {
   "cell_type": "code",
   "execution_count": 150,
   "id": "830dc632-b585-43f4-8d5f-83b5c859a831",
   "metadata": {},
   "outputs": [
    {
     "name": "stdout",
     "output_type": "stream",
     "text": [
      "11111\n",
      "19991\n",
      "19191\n",
      "19991\n",
      "11111\n",
      "\n"
     ]
    }
   ],
   "source": [
    "with open('input_day11_stg_b.txt', 'rt') as f:\n",
    "    input_raw=f.read() #[x for x in f.read().split('\\n') if x != '']\n",
    "print(input_raw[0:500])"
   ]
  },
  {
   "cell_type": "code",
   "execution_count": 210,
   "id": "81a26f40-736e-4ca8-9c8c-dbe81bb10646",
   "metadata": {},
   "outputs": [
    {
     "name": "stdout",
     "output_type": "stream",
     "text": [
      "8826876714\n",
      "3127787238\n",
      "8182852861\n",
      "4655371483\n",
      "386455\n"
     ]
    }
   ],
   "source": [
    "with open('input_day11_prd.txt', 'rt') as f:\n",
    "    input_raw=f.read() #[x for x in f.read().split('\\n') if x != '']\n",
    "print(input_raw[0:50])"
   ]
  },
  {
   "cell_type": "code",
   "execution_count": 192,
   "id": "ddaa9a90-2018-40d5-8907-721424a1d7f2",
   "metadata": {},
   "outputs": [],
   "source": [
    "def print_cavern(cavern):\n",
    "    for r in cavern:\n",
    "        print(''.join([str(x) for x in r]))"
   ]
  },
  {
   "cell_type": "code",
   "execution_count": 209,
   "id": "70048fd7-112a-4db0-af50-3a12f9ec82fb",
   "metadata": {},
   "outputs": [
    {
     "name": "stdout",
     "output_type": "stream",
     "text": [
      "10\n",
      "8826876714\n",
      "3127787238\n",
      "8182852861\n",
      "4655371483\n",
      "3864551365\n",
      "1878253581\n",
      "8317422437\n",
      "1517254266\n",
      "2621124761\n",
      "3473331514\n",
      "\n",
      "1113227548\n",
      "1153222644\n",
      "1632223854\n",
      "1522235186\n",
      "1522351111\n",
      "1423511111\n",
      "3446111111\n",
      "9912332117\n",
      "8124004275\n",
      "7120000754\n",
      "Flashes: 1683\n"
     ]
    }
   ],
   "source": [
    "input=np.array([[int(x) for x in l] for l in input_raw.splitlines() if l != ''])\n",
    "n=input.shape[0]\n",
    "print(n)\n",
    "print_cavern(input)\n",
    "print()\n",
    "cavern=input.copy()\n",
    "flashes=0\n",
    "for ii in range(100):\n",
    "    cavern+=1\n",
    "    l9=list(zip(*np.where(cavern>9)))\n",
    "    flashed=[]\n",
    "    while len(l9)>0:\n",
    "        octo=l9.pop(0)\n",
    "        if octo in flashed:\n",
    "            print('Already flashed ', octo)\n",
    "            continue # Octopuses cqn flash only once per round\n",
    "        flashed.append(octo)\n",
    "        x, y = octo\n",
    "        c=0\n",
    "        for i in range(-1, 2):\n",
    "            for j in range(-1, 2):\n",
    "                if (0<=x+i<n)&(0<=y+j<n)&((i!=0)|(j!=0)):\n",
    "                    c+=1\n",
    "                    index=(x+i, y+j)\n",
    "                    cavern[index]+=1\n",
    "                    if cavern[index] > 9:\n",
    "                        if index not in l9+flashed:\n",
    "                            l9.append(index)\n",
    "    for octo_flashed in flashed:\n",
    "        cavern[octo_flashed]=0\n",
    "    flashes+=len(flashed)\n",
    "\n",
    "print_cavern(cavern)\n",
    "print('Flashes:', flashes)"
   ]
  },
  {
   "cell_type": "code",
   "execution_count": 200,
   "id": "ed6c57d6-0f5a-4bd0-a315-8723e336201d",
   "metadata": {},
   "outputs": [],
   "source": [
    "# Part 2"
   ]
  },
  {
   "cell_type": "code",
   "execution_count": 213,
   "id": "3b57483e-0896-4c72-be9d-ade8b63355a3",
   "metadata": {},
   "outputs": [
    {
     "name": "stdout",
     "output_type": "stream",
     "text": [
      "10\n",
      "8826876714\n",
      "3127787238\n",
      "8182852861\n",
      "4655371483\n",
      "3864551365\n",
      "1878253581\n",
      "8317422437\n",
      "1517254266\n",
      "2621124761\n",
      "3473331514\n",
      "\n",
      "All flashed on step: 788\n",
      "Flashes: 12583\n",
      "0000000000\n",
      "0000000000\n",
      "0000000000\n",
      "0000000000\n",
      "0000000000\n",
      "0000000000\n",
      "0000000000\n",
      "0000000000\n",
      "0000000000\n",
      "0000000000\n"
     ]
    }
   ],
   "source": [
    "input=np.array([[int(x) for x in l] for l in input_raw.splitlines() if l != ''])\n",
    "n=input.shape[0]\n",
    "print(n)\n",
    "print_cavern(input)\n",
    "print()\n",
    "cavern=input.copy()\n",
    "flashes=0\n",
    "ii=0\n",
    "flashed=[]\n",
    "while len(flashed)<n**2:\n",
    "    ii+=1\n",
    "    cavern+=1\n",
    "    l9=list(zip(*np.where(cavern>9)))\n",
    "    flashed=[]\n",
    "    while len(l9)>0:\n",
    "        octo=l9.pop(0)\n",
    "        if octo in flashed:\n",
    "            print('Already flashed ', octo)\n",
    "            continue # Octopuses cqn flash only once per round\n",
    "        flashed.append(octo)\n",
    "        x, y = octo\n",
    "        c=0\n",
    "        for i in range(-1, 2):\n",
    "            for j in range(-1, 2):\n",
    "                if (0<=x+i<n)&(0<=y+j<n)&((i!=0)|(j!=0)):\n",
    "                    c+=1\n",
    "                    index=(x+i, y+j)\n",
    "                    cavern[index]+=1\n",
    "                    if cavern[index] > 9:\n",
    "                        if index not in l9+flashed:\n",
    "                            l9.append(index)\n",
    "    for octo_flashed in flashed:\n",
    "        cavern[octo_flashed]=0\n",
    "    flashes+=len(flashed)\n",
    "#    print(ii, len(flashed))\n",
    "    if len(flashed)==n**2:\n",
    "        print('All flashed on step:', ii)\n",
    "        #print_cavern(cavern)\n",
    "#    print_cavern(cavern)\n",
    "\n",
    "print('Flashes:', flashes)\n",
    "print_cavern(cavern)"
   ]
  },
  {
   "cell_type": "code",
   "execution_count": null,
   "id": "ef6be07f-97b1-4e64-bd88-93fdf72c139f",
   "metadata": {},
   "outputs": [],
   "source": []
  }
 ],
 "metadata": {
  "kernelspec": {
   "display_name": "Python 3 (ipykernel)",
   "language": "python",
   "name": "python3"
  },
  "language_info": {
   "codemirror_mode": {
    "name": "ipython",
    "version": 3
   },
   "file_extension": ".py",
   "mimetype": "text/x-python",
   "name": "python",
   "nbconvert_exporter": "python",
   "pygments_lexer": "ipython3",
   "version": "3.10.0"
  }
 },
 "nbformat": 4,
 "nbformat_minor": 5
}
