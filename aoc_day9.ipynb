{
 "cells": [
  {
   "cell_type": "code",
   "execution_count": 285,
   "id": "441b24cd-9da9-4867-993f-5846183033db",
   "metadata": {},
   "outputs": [],
   "source": [
    "import numpy as np\n",
    "from tqdm.notebook import tqdm"
   ]
  },
  {
   "cell_type": "code",
   "execution_count": 286,
   "id": "1b6ae45c-3df8-460e-acc5-5f9c8a4aab36",
   "metadata": {},
   "outputs": [
    {
     "name": "stdout",
     "output_type": "stream",
     "text": [
      "2199943210\n",
      "3987894921\n",
      "9856789892\n",
      "8767896789\n",
      "9899965678\n",
      "\n"
     ]
    }
   ],
   "source": [
    "with open('input_day9_stg.txt', 'rt') as f:\n",
    "    input=f.read() #[x for x in f.read().split('\\n') if x != '']\n",
    "print(input[0:500])"
   ]
  },
  {
   "cell_type": "code",
   "execution_count": 287,
   "id": "e71cdee5-a019-4e6b-896c-d2894d5ed1dc",
   "metadata": {},
   "outputs": [
    {
     "name": "stdout",
     "output_type": "stream",
     "text": [
      "5656921987125678979998760234965456789998768789239876323457896545467894567987232345679209876567998656\n",
      "4349899876234599568987654345894345999987656678945965212348965434356943459876101956798912987459876541\n",
      "5498789854345689467898765456789297898999736567899874323489654321248932398765219897987893498598765432\n",
      "6989598765459789356989878767896345987432125456789985434578965432357953499954398789376789569679876543\n",
      "987545987656989324987698989896547697652101234569987664568987654345689468987567964323459899878998\n",
      "78943379899763234678945689876543234878998875642345689987654349899987654324598765432345899899165\n",
      "8998789321234789854345789656999987632123569987984551234793498875456789998783213459876543656789678976\n",
      "9549895452375699965656798767899874321012478976543210159892109986767899989654302345998754567897567897\n",
      "0234976565467789798767899988998765434566567897865421767899212987898909876543213566789766678998486789\n",
      "1655989876988894569989910199019876545679788998976562345678924598999212987654424587899887889239345678\n",
      "\n"
     ]
    }
   ],
   "source": [
    "with open('input_day9_prd.txt', 'rt') as f:\n",
    "    input=f.read() #[x for x in f.read().split('\\n') if x != '']\n",
    "print(input[0:500])\n",
    "print(input[-500:])"
   ]
  },
  {
   "cell_type": "code",
   "execution_count": 288,
   "id": "69325201-bdbf-48b3-af9d-93e696b0057c",
   "metadata": {},
   "outputs": [
    {
     "data": {
      "text/plain": [
       "array([[5, 6, 5, ..., 6, 5, 6],\n",
       "       [4, 3, 4, ..., 5, 4, 1],\n",
       "       [5, 4, 9, ..., 4, 3, 2],\n",
       "       ...,\n",
       "       [9, 5, 4, ..., 8, 9, 7],\n",
       "       [0, 2, 3, ..., 7, 8, 9],\n",
       "       [1, 6, 5, ..., 6, 7, 8]])"
      ]
     },
     "execution_count": 288,
     "metadata": {},
     "output_type": "execute_result"
    }
   ],
   "source": [
    "heightmap=np.array([[int(x) for x in r] for r in input.split('\\n') if r != ''])\n",
    "heightmap"
   ]
  },
  {
   "cell_type": "code",
   "execution_count": 289,
   "id": "b1567936-fce7-473d-a28f-e33e39c272ad",
   "metadata": {},
   "outputs": [
    {
     "data": {
      "text/plain": [
       "(100, 100)"
      ]
     },
     "execution_count": 289,
     "metadata": {},
     "output_type": "execute_result"
    }
   ],
   "source": [
    "nx=heightmap.shape[0]\n",
    "ny=heightmap.shape[1]\n",
    "nx, ny"
   ]
  },
  {
   "cell_type": "code",
   "execution_count": 290,
   "id": "7cf904cb-886a-4eca-b299-b07928d9e569",
   "metadata": {},
   "outputs": [],
   "source": [
    "down =heightmap<np.concatenate((heightmap[1:], [np.ones(ny)*np.inf]))\n",
    "up   =heightmap<np.concatenate(([np.ones(ny)*np.inf], heightmap[:-1]))\n",
    "right=heightmap<np.concatenate((heightmap.T[1:], [np.ones(nx)*np.inf])).T\n",
    "left =heightmap<np.concatenate(([np.ones(nx)*np.inf], heightmap.T[:-1])).T"
   ]
  },
  {
   "cell_type": "code",
   "execution_count": 291,
   "id": "d2236a5a-4411-4d03-a098-61462bdc18ce",
   "metadata": {},
   "outputs": [
    {
     "data": {
      "text/plain": [
       "452"
      ]
     },
     "execution_count": 291,
     "metadata": {},
     "output_type": "execute_result"
    }
   ],
   "source": [
    "sum(heightmap[down&up&left&right]+1)"
   ]
  },
  {
   "cell_type": "code",
   "execution_count": 292,
   "id": "af96d343-a7af-4150-ba8b-90dcfd492057",
   "metadata": {},
   "outputs": [],
   "source": [
    "# Part 2"
   ]
  },
  {
   "cell_type": "code",
   "execution_count": 293,
   "id": "0531b0c4-8354-48ae-b443-6b63a2144af2",
   "metadata": {},
   "outputs": [
    {
     "data": {
      "text/plain": [
       "[[0, 6],\n",
       " [0, 10],\n",
       " [0, 24],\n",
       " [0, 46],\n",
       " [0, 86],\n",
       " [1, 1],\n",
       " [1, 53],\n",
       " [1, 77],\n",
       " [1, 91],\n",
       " [1, 99],\n",
       " [2, 31],\n",
       " [2, 63],\n",
       " [2, 69],\n",
       " [4, 40],\n",
       " [5, 16],\n",
       " [6, 56],\n",
       " [6, 82],\n",
       " [6, 90],\n",
       " [7, 4],\n",
       " [7, 23],\n",
       " [7, 47],\n",
       " [7, 95],\n",
       " [9, 11],\n",
       " [9, 63],\n",
       " [9, 72],\n",
       " [11, 81],\n",
       " [12, 18],\n",
       " [12, 48],\n",
       " [12, 57],\n",
       " [13, 30],\n",
       " [13, 32],\n",
       " [13, 86],\n",
       " [13, 96],\n",
       " [14, 60],\n",
       " [15, 3],\n",
       " [16, 42],\n",
       " [16, 62],\n",
       " [16, 69],\n",
       " [17, 22],\n",
       " [17, 70],\n",
       " [19, 38],\n",
       " [19, 52],\n",
       " [20, 10],\n",
       " [20, 31],\n",
       " [20, 67],\n",
       " [20, 78],\n",
       " [20, 87],\n",
       " [21, 95],\n",
       " [22, 0],\n",
       " [23, 61],\n",
       " [24, 98],\n",
       " [25, 8],\n",
       " [25, 12],\n",
       " [25, 14],\n",
       " [25, 46],\n",
       " [25, 69],\n",
       " [25, 90],\n",
       " [26, 40],\n",
       " [26, 55],\n",
       " [26, 83],\n",
       " [27, 34],\n",
       " [28, 24],\n",
       " [28, 79],\n",
       " [29, 96],\n",
       " [30, 13],\n",
       " [31, 4],\n",
       " [31, 52],\n",
       " [31, 68],\n",
       " [31, 87],\n",
       " [32, 59],\n",
       " [33, 37],\n",
       " [33, 45],\n",
       " [34, 73],\n",
       " [35, 29],\n",
       " [35, 95],\n",
       " [36, 15],\n",
       " [36, 90],\n",
       " [37, 19],\n",
       " [37, 64],\n",
       " [38, 0],\n",
       " [38, 9],\n",
       " [38, 24],\n",
       " [38, 77],\n",
       " [39, 37],\n",
       " [40, 56],\n",
       " [41, 46],\n",
       " [41, 51],\n",
       " [41, 85],\n",
       " [42, 15],\n",
       " [42, 95],\n",
       " [44, 2],\n",
       " [44, 22],\n",
       " [44, 29],\n",
       " [44, 68],\n",
       " [45, 11],\n",
       " [46, 16],\n",
       " [46, 64],\n",
       " [47, 58],\n",
       " [47, 74],\n",
       " [48, 45],\n",
       " [49, 53],\n",
       " [49, 58],\n",
       " [49, 84],\n",
       " [49, 96],\n",
       " [50, 24],\n",
       " [50, 64],\n",
       " [51, 35],\n",
       " [53, 10],\n",
       " [53, 19],\n",
       " [54, 46],\n",
       " [54, 69],\n",
       " [54, 75],\n",
       " [54, 92],\n",
       " [55, 81],\n",
       " [57, 4],\n",
       " [57, 39],\n",
       " [57, 55],\n",
       " [57, 63],\n",
       " [57, 74],\n",
       " [57, 95],\n",
       " [58, 22],\n",
       " [59, 31],\n",
       " [60, 77],\n",
       " [60, 85],\n",
       " [61, 15],\n",
       " [61, 44],\n",
       " [62, 68],\n",
       " [62, 92],\n",
       " [64, 1],\n",
       " [64, 50],\n",
       " [65, 23],\n",
       " [65, 60],\n",
       " [65, 85],\n",
       " [66, 15],\n",
       " [66, 40],\n",
       " [66, 80],\n",
       " [66, 95],\n",
       " [67, 31],\n",
       " [68, 0],\n",
       " [68, 6],\n",
       " [68, 66],\n",
       " [69, 20],\n",
       " [70, 46],\n",
       " [70, 52],\n",
       " [70, 75],\n",
       " [70, 84],\n",
       " [71, 17],\n",
       " [72, 60],\n",
       " [72, 80],\n",
       " [72, 90],\n",
       " [73, 19],\n",
       " [73, 24],\n",
       " [74, 2],\n",
       " [74, 9],\n",
       " [75, 69],\n",
       " [75, 96],\n",
       " [76, 35],\n",
       " [76, 44],\n",
       " [78, 4],\n",
       " [78, 63],\n",
       " [78, 76],\n",
       " [79, 0],\n",
       " [80, 24],\n",
       " [80, 56],\n",
       " [80, 71],\n",
       " [80, 87],\n",
       " [81, 37],\n",
       " [83, 17],\n",
       " [84, 7],\n",
       " [84, 28],\n",
       " [84, 43],\n",
       " [84, 80],\n",
       " [84, 99],\n",
       " [85, 50],\n",
       " [85, 67],\n",
       " [85, 90],\n",
       " [86, 58],\n",
       " [87, 73],\n",
       " [87, 83],\n",
       " [88, 40],\n",
       " [89, 15],\n",
       " [89, 35],\n",
       " [89, 53],\n",
       " [89, 95],\n",
       " [90, 65],\n",
       " [91, 2],\n",
       " [91, 48],\n",
       " [92, 26],\n",
       " [93, 58],\n",
       " [93, 87],\n",
       " [94, 19],\n",
       " [95, 64],\n",
       " [95, 97],\n",
       " [96, 9],\n",
       " [97, 37],\n",
       " [97, 51],\n",
       " [97, 59],\n",
       " [97, 77],\n",
       " [98, 0],\n",
       " [98, 68],\n",
       " [99, 15],\n",
       " [99, 24],\n",
       " [99, 28],\n",
       " [99, 91],\n",
       " [99, 94]]"
      ]
     },
     "execution_count": 293,
     "metadata": {},
     "output_type": "execute_result"
    }
   ],
   "source": [
    "lows=[list(loc) for loc in np.argwhere(down&up&left&right)]\n",
    "lows"
   ]
  },
  {
   "cell_type": "raw",
   "id": "7dd651fb-ba10-4e7d-96fd-a726412808a0",
   "metadata": {},
   "source": [
    "def above(loc, bassin):\n",
    "    points=[]\n",
    "    x, y = loc\n",
    "    for i, j in range(-1, 2):\n",
    "        for j in range(-1,2):\n",
    "            if (i==0)&(j==0):\n",
    "                pass\n",
    "            if (0<=x+i<nx)&(0<=y+j<ny):\n",
    "                if 9>heightmap[x+i, y+j]>=heightmap[x, y]:\n",
    "                    if [x+i, y+j] not in bassin:\n",
    "                        points.append([x+i, y+j])\n",
    "                        points.extend(above([x+i, y+j], bassin+points))\n",
    "    return points\n",
    "            "
   ]
  },
  {
   "cell_type": "code",
   "execution_count": 294,
   "id": "f07561c6-ec06-4137-b5e4-2f735789ad22",
   "metadata": {},
   "outputs": [],
   "source": [
    "def above(loc, bassin):\n",
    "    points=[]\n",
    "    x, y = loc\n",
    "    for i, j in [[-1,0], [1,0], [0,-1], [0, 1]]:\n",
    "        if (i==0)&(j==0):\n",
    "            pass\n",
    "        if (0<=x+i<nx)&(0<=y+j<ny):\n",
    "            if 9>heightmap[x+i, y+j]>=heightmap[x, y]:\n",
    "                if [x+i, y+j] not in bassin:\n",
    "                    points.append([x+i, y+j])\n",
    "                    points.extend(above([x+i, y+j], bassin+points))\n",
    "    return points\n",
    "            "
   ]
  },
  {
   "cell_type": "code",
   "execution_count": null,
   "id": "cd1605a1-0200-4286-8a5e-c3f63675a291",
   "metadata": {},
   "outputs": [],
   "source": []
  },
  {
   "cell_type": "code",
   "execution_count": 295,
   "id": "f647523f-473a-4836-bbac-321862d39eba",
   "metadata": {},
   "outputs": [
    {
     "data": {
      "application/vnd.jupyter.widget-view+json": {
       "model_id": "b58572216a9b4d3ba11e43ddd9341793",
       "version_major": 2,
       "version_minor": 0
      },
      "text/plain": [
       "  0%|          | 0/205 [00:00<?, ?it/s]"
      ]
     },
     "metadata": {},
     "output_type": "display_data"
    }
   ],
   "source": [
    "# Extended bassins including ridges\n",
    "bassins_ext=[]\n",
    "for low in tqdm(lows):\n",
    "    bassin=[low]\n",
    "    bassin.extend(above(low, [low]))\n",
    "    bassins_ext.append({'low': low, 'bassin': bassin})\n"
   ]
  },
  {
   "cell_type": "code",
   "execution_count": 296,
   "id": "318c7bb7-f72b-49ce-bd38-bcf53b835e5a",
   "metadata": {},
   "outputs": [
    {
     "data": {
      "application/vnd.jupyter.widget-view+json": {
       "model_id": "79afeecaf1e443a096a3b0a120f17057",
       "version_major": 2,
       "version_minor": 0
      },
      "text/plain": [
       "  0%|          | 0/205 [00:00<?, ?it/s]"
      ]
     },
     "metadata": {},
     "output_type": "display_data"
    }
   ],
   "source": [
    "bassins=[]\n",
    "for i, bassin in enumerate(tqdm(bassins_ext)):\n",
    "    other_bassins_locs=[l for b in bassins_ext for l in b['bassin'] if b['low'] != bassin['low']]\n",
    "    locs=[\n",
    "        loc \n",
    "        for loc\n",
    "        in bassin['bassin']\n",
    "        if loc not in other_bassins_locs\n",
    "    ]\n",
    "#    print(bassin)\n",
    "    bassins.append({'i':i, 'low': bassin['low'], 'bassin': locs})"
   ]
  },
  {
   "cell_type": "code",
   "execution_count": 262,
   "id": "ad7d1d34-36f6-4df8-81d9-5050266d1374",
   "metadata": {},
   "outputs": [
    {
     "name": "stdout",
     "output_type": "stream",
     "text": [
      "00...11111\n",
      "0.222.1.11\n",
      ".22222.3.1\n",
      "22222.333.\n",
      ".2...33333\n"
     ]
    }
   ],
   "source": [
    "for i in range(nx):\n",
    "    for j in range(ny):\n",
    "        found=False\n",
    "        for ii, b in enumerate(bassins_ext_stg):\n",
    "            if ([i, j] in b['bassin']) & (not found):\n",
    "                print(ii, end='')\n",
    "                found=True\n",
    "        if not found:\n",
    "            print('.', end='')\n",
    "    print()\n",
    "    \n",
    "                "
   ]
  },
  {
   "cell_type": "raw",
   "id": "9155ed86-acca-492a-8a20-768432b2d2ac",
   "metadata": {},
   "source": [
    "for i in range(nx):\n",
    "    for j in range(ny):\n",
    "        print(heightmap[i,j], end='')\n",
    "    print()\n",
    "    \n",
    "                "
   ]
  },
  {
   "cell_type": "code",
   "execution_count": 297,
   "id": "fa52e3eb-fd5b-4f38-b34b-c5db30dd23c5",
   "metadata": {},
   "outputs": [
    {
     "data": {
      "text/plain": [
       "1263735"
      ]
     },
     "execution_count": 297,
     "metadata": {},
     "output_type": "execute_result"
    }
   ],
   "source": [
    "np.prod(sorted([len({str(l) for l in b['bassin']}) for b in bassins])[-3:])"
   ]
  },
  {
   "cell_type": "code",
   "execution_count": null,
   "id": "bd673531-cb1d-4eea-9d5e-6b61e45682b4",
   "metadata": {},
   "outputs": [],
   "source": []
  },
  {
   "cell_type": "code",
   "execution_count": null,
   "id": "fc0c8bb2-9231-42eb-b2ae-fa89a766e2ae",
   "metadata": {},
   "outputs": [],
   "source": []
  },
  {
   "cell_type": "code",
   "execution_count": 8,
   "id": "a433b37a-8c8c-41c9-9ed6-de3077fa0934",
   "metadata": {},
   "outputs": [],
   "source": [
    "import pandas as pd"
   ]
  },
  {
   "cell_type": "code",
   "execution_count": 9,
   "id": "c93ce6e4-1d22-4a77-80df-7c59d9cd58e4",
   "metadata": {},
   "outputs": [],
   "source": [
    "lows=pd.DataFrame(down&up&left&right)\n",
    "heightmap_pd=pd.DataFrame(heightmap)"
   ]
  },
  {
   "cell_type": "code",
   "execution_count": 10,
   "id": "277ef68a-40e6-4b26-b995-1bea6eb06472",
   "metadata": {},
   "outputs": [
    {
     "ename": "OSError",
     "evalue": "cannot load library '/usr/local/bin/R/lib/libR.dylib': dlopen(/usr/local/bin/R/lib/libR.dylib, 2): no suitable image found.  Did find:\n\t/usr/local/bin/R/lib/libR.dylib: stat() failed with errno=20",
     "output_type": "error",
     "traceback": [
      "\u001b[0;31m---------------------------------------------------------------------------\u001b[0m",
      "\u001b[0;31mOSError\u001b[0m                                   Traceback (most recent call last)",
      "\u001b[0;32m/var/folders/rl/jnsjkpcx561d1r21td1t09s80000gp/T/ipykernel_79699/931273312.py\u001b[0m in \u001b[0;36m<module>\u001b[0;34m\u001b[0m\n\u001b[1;32m      1\u001b[0m \u001b[0;32mimport\u001b[0m \u001b[0mrpy2\u001b[0m\u001b[0;34m\u001b[0m\u001b[0;34m\u001b[0m\u001b[0m\n\u001b[0;32m----> 2\u001b[0;31m \u001b[0mget_ipython\u001b[0m\u001b[0;34m(\u001b[0m\u001b[0;34m)\u001b[0m\u001b[0;34m.\u001b[0m\u001b[0mrun_line_magic\u001b[0m\u001b[0;34m(\u001b[0m\u001b[0;34m'load_ext'\u001b[0m\u001b[0;34m,\u001b[0m \u001b[0;34m'rpy2.ipython'\u001b[0m\u001b[0;34m)\u001b[0m\u001b[0;34m\u001b[0m\u001b[0;34m\u001b[0m\u001b[0m\n\u001b[0m",
      "\u001b[0;32m~/pyenv/jpl/lib/python3.10/site-packages/IPython/core/interactiveshell.py\u001b[0m in \u001b[0;36mrun_line_magic\u001b[0;34m(self, magic_name, line, _stack_depth)\u001b[0m\n\u001b[1;32m   2349\u001b[0m                 \u001b[0mkwargs\u001b[0m\u001b[0;34m[\u001b[0m\u001b[0;34m'local_ns'\u001b[0m\u001b[0;34m]\u001b[0m \u001b[0;34m=\u001b[0m \u001b[0mself\u001b[0m\u001b[0;34m.\u001b[0m\u001b[0mget_local_scope\u001b[0m\u001b[0;34m(\u001b[0m\u001b[0mstack_depth\u001b[0m\u001b[0;34m)\u001b[0m\u001b[0;34m\u001b[0m\u001b[0;34m\u001b[0m\u001b[0m\n\u001b[1;32m   2350\u001b[0m             \u001b[0;32mwith\u001b[0m \u001b[0mself\u001b[0m\u001b[0;34m.\u001b[0m\u001b[0mbuiltin_trap\u001b[0m\u001b[0;34m:\u001b[0m\u001b[0;34m\u001b[0m\u001b[0;34m\u001b[0m\u001b[0m\n\u001b[0;32m-> 2351\u001b[0;31m                 \u001b[0mresult\u001b[0m \u001b[0;34m=\u001b[0m \u001b[0mfn\u001b[0m\u001b[0;34m(\u001b[0m\u001b[0;34m*\u001b[0m\u001b[0margs\u001b[0m\u001b[0;34m,\u001b[0m \u001b[0;34m**\u001b[0m\u001b[0mkwargs\u001b[0m\u001b[0;34m)\u001b[0m\u001b[0;34m\u001b[0m\u001b[0;34m\u001b[0m\u001b[0m\n\u001b[0m\u001b[1;32m   2352\u001b[0m             \u001b[0;32mreturn\u001b[0m \u001b[0mresult\u001b[0m\u001b[0;34m\u001b[0m\u001b[0;34m\u001b[0m\u001b[0m\n\u001b[1;32m   2353\u001b[0m \u001b[0;34m\u001b[0m\u001b[0m\n",
      "\u001b[0;32m~/pyenv/jpl/lib/python3.10/site-packages/decorator.py\u001b[0m in \u001b[0;36mfun\u001b[0;34m(*args, **kw)\u001b[0m\n\u001b[1;32m    230\u001b[0m             \u001b[0;32mif\u001b[0m \u001b[0;32mnot\u001b[0m \u001b[0mkwsyntax\u001b[0m\u001b[0;34m:\u001b[0m\u001b[0;34m\u001b[0m\u001b[0;34m\u001b[0m\u001b[0m\n\u001b[1;32m    231\u001b[0m                 \u001b[0margs\u001b[0m\u001b[0;34m,\u001b[0m \u001b[0mkw\u001b[0m \u001b[0;34m=\u001b[0m \u001b[0mfix\u001b[0m\u001b[0;34m(\u001b[0m\u001b[0margs\u001b[0m\u001b[0;34m,\u001b[0m \u001b[0mkw\u001b[0m\u001b[0;34m,\u001b[0m \u001b[0msig\u001b[0m\u001b[0;34m)\u001b[0m\u001b[0;34m\u001b[0m\u001b[0;34m\u001b[0m\u001b[0m\n\u001b[0;32m--> 232\u001b[0;31m             \u001b[0;32mreturn\u001b[0m \u001b[0mcaller\u001b[0m\u001b[0;34m(\u001b[0m\u001b[0mfunc\u001b[0m\u001b[0;34m,\u001b[0m \u001b[0;34m*\u001b[0m\u001b[0;34m(\u001b[0m\u001b[0mextras\u001b[0m \u001b[0;34m+\u001b[0m \u001b[0margs\u001b[0m\u001b[0;34m)\u001b[0m\u001b[0;34m,\u001b[0m \u001b[0;34m**\u001b[0m\u001b[0mkw\u001b[0m\u001b[0;34m)\u001b[0m\u001b[0;34m\u001b[0m\u001b[0;34m\u001b[0m\u001b[0m\n\u001b[0m\u001b[1;32m    233\u001b[0m     \u001b[0mfun\u001b[0m\u001b[0;34m.\u001b[0m\u001b[0m__name__\u001b[0m \u001b[0;34m=\u001b[0m \u001b[0mfunc\u001b[0m\u001b[0;34m.\u001b[0m\u001b[0m__name__\u001b[0m\u001b[0;34m\u001b[0m\u001b[0;34m\u001b[0m\u001b[0m\n\u001b[1;32m    234\u001b[0m     \u001b[0mfun\u001b[0m\u001b[0;34m.\u001b[0m\u001b[0m__doc__\u001b[0m \u001b[0;34m=\u001b[0m \u001b[0mfunc\u001b[0m\u001b[0;34m.\u001b[0m\u001b[0m__doc__\u001b[0m\u001b[0;34m\u001b[0m\u001b[0;34m\u001b[0m\u001b[0m\n",
      "\u001b[0;32m~/pyenv/jpl/lib/python3.10/site-packages/IPython/core/magic.py\u001b[0m in \u001b[0;36m<lambda>\u001b[0;34m(f, *a, **k)\u001b[0m\n\u001b[1;32m    185\u001b[0m     \u001b[0;31m# but it's overkill for just that one bit of state.\u001b[0m\u001b[0;34m\u001b[0m\u001b[0;34m\u001b[0m\u001b[0m\n\u001b[1;32m    186\u001b[0m     \u001b[0;32mdef\u001b[0m \u001b[0mmagic_deco\u001b[0m\u001b[0;34m(\u001b[0m\u001b[0marg\u001b[0m\u001b[0;34m)\u001b[0m\u001b[0;34m:\u001b[0m\u001b[0;34m\u001b[0m\u001b[0;34m\u001b[0m\u001b[0m\n\u001b[0;32m--> 187\u001b[0;31m         \u001b[0mcall\u001b[0m \u001b[0;34m=\u001b[0m \u001b[0;32mlambda\u001b[0m \u001b[0mf\u001b[0m\u001b[0;34m,\u001b[0m \u001b[0;34m*\u001b[0m\u001b[0ma\u001b[0m\u001b[0;34m,\u001b[0m \u001b[0;34m**\u001b[0m\u001b[0mk\u001b[0m\u001b[0;34m:\u001b[0m \u001b[0mf\u001b[0m\u001b[0;34m(\u001b[0m\u001b[0;34m*\u001b[0m\u001b[0ma\u001b[0m\u001b[0;34m,\u001b[0m \u001b[0;34m**\u001b[0m\u001b[0mk\u001b[0m\u001b[0;34m)\u001b[0m\u001b[0;34m\u001b[0m\u001b[0;34m\u001b[0m\u001b[0m\n\u001b[0m\u001b[1;32m    188\u001b[0m \u001b[0;34m\u001b[0m\u001b[0m\n\u001b[1;32m    189\u001b[0m         \u001b[0;32mif\u001b[0m \u001b[0mcallable\u001b[0m\u001b[0;34m(\u001b[0m\u001b[0marg\u001b[0m\u001b[0;34m)\u001b[0m\u001b[0;34m:\u001b[0m\u001b[0;34m\u001b[0m\u001b[0;34m\u001b[0m\u001b[0m\n",
      "\u001b[0;32m~/pyenv/jpl/lib/python3.10/site-packages/IPython/core/magics/extension.py\u001b[0m in \u001b[0;36mload_ext\u001b[0;34m(self, module_str)\u001b[0m\n\u001b[1;32m     31\u001b[0m         \u001b[0;32mif\u001b[0m \u001b[0;32mnot\u001b[0m \u001b[0mmodule_str\u001b[0m\u001b[0;34m:\u001b[0m\u001b[0;34m\u001b[0m\u001b[0;34m\u001b[0m\u001b[0m\n\u001b[1;32m     32\u001b[0m             \u001b[0;32mraise\u001b[0m \u001b[0mUsageError\u001b[0m\u001b[0;34m(\u001b[0m\u001b[0;34m'Missing module name.'\u001b[0m\u001b[0;34m)\u001b[0m\u001b[0;34m\u001b[0m\u001b[0;34m\u001b[0m\u001b[0m\n\u001b[0;32m---> 33\u001b[0;31m         \u001b[0mres\u001b[0m \u001b[0;34m=\u001b[0m \u001b[0mself\u001b[0m\u001b[0;34m.\u001b[0m\u001b[0mshell\u001b[0m\u001b[0;34m.\u001b[0m\u001b[0mextension_manager\u001b[0m\u001b[0;34m.\u001b[0m\u001b[0mload_extension\u001b[0m\u001b[0;34m(\u001b[0m\u001b[0mmodule_str\u001b[0m\u001b[0;34m)\u001b[0m\u001b[0;34m\u001b[0m\u001b[0;34m\u001b[0m\u001b[0m\n\u001b[0m\u001b[1;32m     34\u001b[0m \u001b[0;34m\u001b[0m\u001b[0m\n\u001b[1;32m     35\u001b[0m         \u001b[0;32mif\u001b[0m \u001b[0mres\u001b[0m \u001b[0;34m==\u001b[0m \u001b[0;34m'already loaded'\u001b[0m\u001b[0;34m:\u001b[0m\u001b[0;34m\u001b[0m\u001b[0;34m\u001b[0m\u001b[0m\n",
      "\u001b[0;32m~/pyenv/jpl/lib/python3.10/site-packages/IPython/core/extensions.py\u001b[0m in \u001b[0;36mload_extension\u001b[0;34m(self, module_str)\u001b[0m\n\u001b[1;32m     78\u001b[0m             \u001b[0;32mif\u001b[0m \u001b[0mmodule_str\u001b[0m \u001b[0;32mnot\u001b[0m \u001b[0;32min\u001b[0m \u001b[0msys\u001b[0m\u001b[0;34m.\u001b[0m\u001b[0mmodules\u001b[0m\u001b[0;34m:\u001b[0m\u001b[0;34m\u001b[0m\u001b[0;34m\u001b[0m\u001b[0m\n\u001b[1;32m     79\u001b[0m                 \u001b[0;32mwith\u001b[0m \u001b[0mprepended_to_syspath\u001b[0m\u001b[0;34m(\u001b[0m\u001b[0mself\u001b[0m\u001b[0;34m.\u001b[0m\u001b[0mipython_extension_dir\u001b[0m\u001b[0;34m)\u001b[0m\u001b[0;34m:\u001b[0m\u001b[0;34m\u001b[0m\u001b[0;34m\u001b[0m\u001b[0m\n\u001b[0;32m---> 80\u001b[0;31m                     \u001b[0mmod\u001b[0m \u001b[0;34m=\u001b[0m \u001b[0mimport_module\u001b[0m\u001b[0;34m(\u001b[0m\u001b[0mmodule_str\u001b[0m\u001b[0;34m)\u001b[0m\u001b[0;34m\u001b[0m\u001b[0;34m\u001b[0m\u001b[0m\n\u001b[0m\u001b[1;32m     81\u001b[0m                     \u001b[0;32mif\u001b[0m \u001b[0mmod\u001b[0m\u001b[0;34m.\u001b[0m\u001b[0m__file__\u001b[0m\u001b[0;34m.\u001b[0m\u001b[0mstartswith\u001b[0m\u001b[0;34m(\u001b[0m\u001b[0mself\u001b[0m\u001b[0;34m.\u001b[0m\u001b[0mipython_extension_dir\u001b[0m\u001b[0;34m)\u001b[0m\u001b[0;34m:\u001b[0m\u001b[0;34m\u001b[0m\u001b[0;34m\u001b[0m\u001b[0m\n\u001b[1;32m     82\u001b[0m                         print((\"Loading extensions from {dir} is deprecated. \"\n",
      "\u001b[0;32m/Library/Frameworks/Python.framework/Versions/3.10/lib/python3.10/importlib/__init__.py\u001b[0m in \u001b[0;36mimport_module\u001b[0;34m(name, package)\u001b[0m\n\u001b[1;32m    124\u001b[0m                 \u001b[0;32mbreak\u001b[0m\u001b[0;34m\u001b[0m\u001b[0;34m\u001b[0m\u001b[0m\n\u001b[1;32m    125\u001b[0m             \u001b[0mlevel\u001b[0m \u001b[0;34m+=\u001b[0m \u001b[0;36m1\u001b[0m\u001b[0;34m\u001b[0m\u001b[0;34m\u001b[0m\u001b[0m\n\u001b[0;32m--> 126\u001b[0;31m     \u001b[0;32mreturn\u001b[0m \u001b[0m_bootstrap\u001b[0m\u001b[0;34m.\u001b[0m\u001b[0m_gcd_import\u001b[0m\u001b[0;34m(\u001b[0m\u001b[0mname\u001b[0m\u001b[0;34m[\u001b[0m\u001b[0mlevel\u001b[0m\u001b[0;34m:\u001b[0m\u001b[0;34m]\u001b[0m\u001b[0;34m,\u001b[0m \u001b[0mpackage\u001b[0m\u001b[0;34m,\u001b[0m \u001b[0mlevel\u001b[0m\u001b[0;34m)\u001b[0m\u001b[0;34m\u001b[0m\u001b[0;34m\u001b[0m\u001b[0m\n\u001b[0m\u001b[1;32m    127\u001b[0m \u001b[0;34m\u001b[0m\u001b[0m\n\u001b[1;32m    128\u001b[0m \u001b[0;34m\u001b[0m\u001b[0m\n",
      "\u001b[0;32m/Library/Frameworks/Python.framework/Versions/3.10/lib/python3.10/importlib/_bootstrap.py\u001b[0m in \u001b[0;36m_gcd_import\u001b[0;34m(name, package, level)\u001b[0m\n",
      "\u001b[0;32m/Library/Frameworks/Python.framework/Versions/3.10/lib/python3.10/importlib/_bootstrap.py\u001b[0m in \u001b[0;36m_find_and_load\u001b[0;34m(name, import_)\u001b[0m\n",
      "\u001b[0;32m/Library/Frameworks/Python.framework/Versions/3.10/lib/python3.10/importlib/_bootstrap.py\u001b[0m in \u001b[0;36m_find_and_load_unlocked\u001b[0;34m(name, import_)\u001b[0m\n",
      "\u001b[0;32m/Library/Frameworks/Python.framework/Versions/3.10/lib/python3.10/importlib/_bootstrap.py\u001b[0m in \u001b[0;36m_load_unlocked\u001b[0;34m(spec)\u001b[0m\n",
      "\u001b[0;32m/Library/Frameworks/Python.framework/Versions/3.10/lib/python3.10/importlib/_bootstrap_external.py\u001b[0m in \u001b[0;36mexec_module\u001b[0;34m(self, module)\u001b[0m\n",
      "\u001b[0;32m/Library/Frameworks/Python.framework/Versions/3.10/lib/python3.10/importlib/_bootstrap.py\u001b[0m in \u001b[0;36m_call_with_frames_removed\u001b[0;34m(f, *args, **kwds)\u001b[0m\n",
      "\u001b[0;32m~/pyenv/jpl/lib/python3.10/site-packages/rpy2/ipython/__init__.py\u001b[0m in \u001b[0;36m<module>\u001b[0;34m\u001b[0m\n\u001b[0;32m----> 1\u001b[0;31m \u001b[0;32mfrom\u001b[0m \u001b[0;34m.\u001b[0m \u001b[0;32mimport\u001b[0m \u001b[0mrmagic\u001b[0m\u001b[0;34m\u001b[0m\u001b[0;34m\u001b[0m\u001b[0m\n\u001b[0m\u001b[1;32m      2\u001b[0m \u001b[0;34m\u001b[0m\u001b[0m\n\u001b[1;32m      3\u001b[0m \u001b[0mload_ipython_extension\u001b[0m \u001b[0;34m=\u001b[0m \u001b[0mrmagic\u001b[0m\u001b[0;34m.\u001b[0m\u001b[0mload_ipython_extension\u001b[0m\u001b[0;34m\u001b[0m\u001b[0;34m\u001b[0m\u001b[0m\n",
      "\u001b[0;32m~/pyenv/jpl/lib/python3.10/site-packages/rpy2/ipython/rmagic.py\u001b[0m in \u001b[0;36m<module>\u001b[0;34m\u001b[0m\n\u001b[1;32m     53\u001b[0m \u001b[0;31m# numpy and rpy2 imports\u001b[0m\u001b[0;34m\u001b[0m\u001b[0;34m\u001b[0m\u001b[0m\n\u001b[1;32m     54\u001b[0m \u001b[0;34m\u001b[0m\u001b[0m\n\u001b[0;32m---> 55\u001b[0;31m \u001b[0;32mimport\u001b[0m \u001b[0mrpy2\u001b[0m\u001b[0;34m.\u001b[0m\u001b[0mrinterface\u001b[0m \u001b[0;32mas\u001b[0m \u001b[0mri\u001b[0m\u001b[0;34m\u001b[0m\u001b[0;34m\u001b[0m\u001b[0m\n\u001b[0m\u001b[1;32m     56\u001b[0m \u001b[0;32mimport\u001b[0m \u001b[0mrpy2\u001b[0m\u001b[0;34m.\u001b[0m\u001b[0mrinterface_lib\u001b[0m\u001b[0;34m.\u001b[0m\u001b[0mcallbacks\u001b[0m\u001b[0;34m\u001b[0m\u001b[0;34m\u001b[0m\u001b[0m\n\u001b[1;32m     57\u001b[0m \u001b[0;32mimport\u001b[0m \u001b[0mrpy2\u001b[0m\u001b[0;34m.\u001b[0m\u001b[0mrobjects\u001b[0m \u001b[0;32mas\u001b[0m \u001b[0mro\u001b[0m\u001b[0;34m\u001b[0m\u001b[0;34m\u001b[0m\u001b[0m\n",
      "\u001b[0;32m~/pyenv/jpl/lib/python3.10/site-packages/rpy2/rinterface.py\u001b[0m in \u001b[0;36m<module>\u001b[0;34m\u001b[0m\n\u001b[1;32m     10\u001b[0m \u001b[0;32mimport\u001b[0m \u001b[0mwarnings\u001b[0m\u001b[0;34m\u001b[0m\u001b[0;34m\u001b[0m\u001b[0m\n\u001b[1;32m     11\u001b[0m \u001b[0;32mfrom\u001b[0m \u001b[0mtyping\u001b[0m \u001b[0;32mimport\u001b[0m \u001b[0mUnion\u001b[0m\u001b[0;34m\u001b[0m\u001b[0;34m\u001b[0m\u001b[0m\n\u001b[0;32m---> 12\u001b[0;31m \u001b[0;32mfrom\u001b[0m \u001b[0mrpy2\u001b[0m\u001b[0;34m.\u001b[0m\u001b[0mrinterface_lib\u001b[0m \u001b[0;32mimport\u001b[0m \u001b[0mopenrlib\u001b[0m\u001b[0;34m\u001b[0m\u001b[0;34m\u001b[0m\u001b[0m\n\u001b[0m\u001b[1;32m     13\u001b[0m \u001b[0;32mimport\u001b[0m \u001b[0mrpy2\u001b[0m\u001b[0;34m.\u001b[0m\u001b[0mrinterface_lib\u001b[0m\u001b[0;34m.\u001b[0m\u001b[0m_rinterface_capi\u001b[0m \u001b[0;32mas\u001b[0m \u001b[0m_rinterface\u001b[0m\u001b[0;34m\u001b[0m\u001b[0;34m\u001b[0m\u001b[0m\n\u001b[1;32m     14\u001b[0m \u001b[0;32mimport\u001b[0m \u001b[0mrpy2\u001b[0m\u001b[0;34m.\u001b[0m\u001b[0mrinterface_lib\u001b[0m\u001b[0;34m.\u001b[0m\u001b[0membedded\u001b[0m \u001b[0;32mas\u001b[0m \u001b[0membedded\u001b[0m\u001b[0;34m\u001b[0m\u001b[0;34m\u001b[0m\u001b[0m\n",
      "\u001b[0;32m~/pyenv/jpl/lib/python3.10/site-packages/rpy2/rinterface_lib/openrlib.py\u001b[0m in \u001b[0;36m<module>\u001b[0;34m\u001b[0m\n\u001b[1;32m     42\u001b[0m     \u001b[0mrlib\u001b[0m \u001b[0;34m=\u001b[0m \u001b[0m_rinterface_cffi\u001b[0m\u001b[0;34m.\u001b[0m\u001b[0mlib\u001b[0m\u001b[0;34m\u001b[0m\u001b[0;34m\u001b[0m\u001b[0m\n\u001b[1;32m     43\u001b[0m \u001b[0;32melse\u001b[0m\u001b[0;34m:\u001b[0m\u001b[0;34m\u001b[0m\u001b[0;34m\u001b[0m\u001b[0m\n\u001b[0;32m---> 44\u001b[0;31m     \u001b[0mrlib\u001b[0m \u001b[0;34m=\u001b[0m \u001b[0m_dlopen_rlib\u001b[0m\u001b[0;34m(\u001b[0m\u001b[0mR_HOME\u001b[0m\u001b[0;34m)\u001b[0m\u001b[0;34m\u001b[0m\u001b[0;34m\u001b[0m\u001b[0m\n\u001b[0m\u001b[1;32m     45\u001b[0m \u001b[0;34m\u001b[0m\u001b[0m\n\u001b[1;32m     46\u001b[0m \u001b[0;34m\u001b[0m\u001b[0m\n",
      "\u001b[0;32m~/pyenv/jpl/lib/python3.10/site-packages/rpy2/rinterface_lib/openrlib.py\u001b[0m in \u001b[0;36m_dlopen_rlib\u001b[0;34m(r_home)\u001b[0m\n\u001b[1;32m     35\u001b[0m         \u001b[0;32mraise\u001b[0m \u001b[0mValueError\u001b[0m\u001b[0;34m(\u001b[0m\u001b[0;34m'The library path cannot be None.'\u001b[0m\u001b[0;34m)\u001b[0m\u001b[0;34m\u001b[0m\u001b[0;34m\u001b[0m\u001b[0m\n\u001b[1;32m     36\u001b[0m     \u001b[0;32melse\u001b[0m\u001b[0;34m:\u001b[0m\u001b[0;34m\u001b[0m\u001b[0;34m\u001b[0m\u001b[0m\n\u001b[0;32m---> 37\u001b[0;31m         \u001b[0mrlib\u001b[0m \u001b[0;34m=\u001b[0m \u001b[0mffi\u001b[0m\u001b[0;34m.\u001b[0m\u001b[0mdlopen\u001b[0m\u001b[0;34m(\u001b[0m\u001b[0mlib_path\u001b[0m\u001b[0;34m)\u001b[0m\u001b[0;34m\u001b[0m\u001b[0;34m\u001b[0m\u001b[0m\n\u001b[0m\u001b[1;32m     38\u001b[0m     \u001b[0;32mreturn\u001b[0m \u001b[0mrlib\u001b[0m\u001b[0;34m\u001b[0m\u001b[0;34m\u001b[0m\u001b[0m\n\u001b[1;32m     39\u001b[0m \u001b[0;34m\u001b[0m\u001b[0m\n",
      "\u001b[0;31mOSError\u001b[0m: cannot load library '/usr/local/bin/R/lib/libR.dylib': dlopen(/usr/local/bin/R/lib/libR.dylib, 2): no suitable image found.  Did find:\n\t/usr/local/bin/R/lib/libR.dylib: stat() failed with errno=20"
     ]
    }
   ],
   "source": [
    "import rpy2\n",
    "%load_ext rpy2.ipython"
   ]
  },
  {
   "cell_type": "code",
   "execution_count": 11,
   "id": "eecb2b9f-0338-4a52-ac95-eb4ad9ed5ae9",
   "metadata": {},
   "outputs": [
    {
     "name": "stderr",
     "output_type": "stream",
     "text": [
      "UsageError: Cell magic `%%R` not found.\n"
     ]
    }
   ],
   "source": [
    "%%R\n",
    "library(tidyverse)\n",
    "library(magrittr)"
   ]
  },
  {
   "cell_type": "code",
   "execution_count": 124,
   "id": "0237a9a7-8f16-44f0-9a2b-bad1d2b19e8c",
   "metadata": {},
   "outputs": [
    {
     "name": "stdout",
     "output_type": "stream",
     "text": [
      "# A tibble: 10,000 × 3\n",
      "       y     x v    \n",
      "   <int> <dbl> <lgl>\n",
      " 1     1     0 FALSE\n",
      " 2     2     0 FALSE\n",
      " 3     3     0 FALSE\n",
      " 4     4     0 FALSE\n",
      " 5     5     0 FALSE\n",
      " 6     6     0 FALSE\n",
      " 7     7     0 FALSE\n",
      " 8     8     0 FALSE\n",
      " 9     9     0 FALSE\n",
      "10    10     0 FALSE\n",
      "# … with 9,990 more rows\n"
     ]
    }
   ],
   "source": [
    "%%R -i lows \n",
    "lows %<>% as_tibble() %>% mutate(y=row_number()) %>% gather('x', 'v', `0`:`99`) %>% mutate(x=as.numeric(x))\n",
    "lows"
   ]
  },
  {
   "cell_type": "code",
   "execution_count": 125,
   "id": "30539564-8100-462e-81aa-2f25385f7640",
   "metadata": {},
   "outputs": [
    {
     "name": "stdout",
     "output_type": "stream",
     "text": [
      "# A tibble: 10,000 × 3\n",
      "       y     x     h\n",
      "   <int> <dbl> <int>\n",
      " 1     1     0     5\n",
      " 2     2     0     4\n",
      " 3     3     0     5\n",
      " 4     4     0     6\n",
      " 5     5     0     9\n",
      " 6     6     0     8\n",
      " 7     7     0     9\n",
      " 8     8     0     9\n",
      " 9     9     0     8\n",
      "10    10     0     7\n",
      "# … with 9,990 more rows\n"
     ]
    }
   ],
   "source": [
    "%%R -i heightmap_pd \n",
    "heightmap_pd %<>% as_tibble() %>% mutate(y=row_number()) %>% gather('x', 'h', `0`:`99`) %>% mutate(x=as.numeric(x))\n",
    "heightmap_pd"
   ]
  },
  {
   "cell_type": "code",
   "execution_count": 126,
   "id": "9e0ff437-00c2-4b78-ae0b-e1a6d8031a45",
   "metadata": {},
   "outputs": [
    {
     "data": {
      "image/png": "[encoded data removed]"
     },
     "metadata": {},
     "output_type": "display_data"
    }
   ],
   "source": [
    "%%R\n",
    "ggplot(lows) + \n",
    "    geom_tile(aes(x, y, fill=v))"
   ]
  },
  {
   "cell_type": "code",
   "execution_count": 135,
   "id": "8820b9ec-e65d-429c-849a-cbc938276865",
   "metadata": {},
   "outputs": [
    {
     "data": {
      "image/png": "[encoded data removed]"
     },
     "metadata": {},
     "output_type": "display_data"
    }
   ],
   "source": [
    "%%R\n",
    "ggplot(heightmap_pd) + \n",
    "    geom_rect(aes(xmin=x, ymin=y, xmax=x+1, ymax=y+1, fill=h)) +\n",
    "    geom_rect(data=lows %>% filter(v), aes(xmin=x, ymin=y, xmax=x+1, ymax=y+1,), color='red', size=.2)"
   ]
  },
  {
   "cell_type": "code",
   "execution_count": 128,
   "id": "e02bd78b-37dd-488a-ab8a-d11bb50f4abc",
   "metadata": {},
   "outputs": [
    {
     "name": "stdout",
     "output_type": "stream",
     "text": [
      "Joining, by = c(\"y\", \"x\")\n",
      "# A tibble: 1 × 2\n",
      "  `n()` `sum(h + 1)`\n",
      "  <int>        <dbl>\n",
      "1   304         1442\n"
     ]
    }
   ],
   "source": [
    "%%R\n",
    "inner_join(lows, heightmap_pd) %>% filter(v) %>% summarize(n(), sum(h+1))"
   ]
  },
  {
   "cell_type": "code",
   "execution_count": null,
   "id": "076ff5e2-89e5-4caa-85ae-bf53669a4a81",
   "metadata": {},
   "outputs": [],
   "source": []
  }
 ],
 "metadata": {
  "kernelspec": {
   "display_name": "Python 3 (ipykernel)",
   "language": "python",
   "name": "python3"
  },
  "language_info": {
   "codemirror_mode": {
    "name": "ipython",
    "version": 3
   },
   "file_extension": ".py",
   "mimetype": "text/x-python",
   "name": "python",
   "nbconvert_exporter": "python",
   "pygments_lexer": "ipython3",
   "version": "3.10.0"
  }
 },
 "nbformat": 4,
 "nbformat_minor": 5
}
