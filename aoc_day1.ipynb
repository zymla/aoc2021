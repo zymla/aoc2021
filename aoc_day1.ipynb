{
 "cells": [
  {
   "cell_type": "code",
   "execution_count": 31,
   "id": "6c2ee3c4-ec64-47de-b4ab-4f7c76267c23",
   "metadata": {},
   "outputs": [],
   "source": [
    "import numpy as np\n",
    "from numpy.lib.stride_tricks import sliding_window_view"
   ]
  },
  {
   "cell_type": "code",
   "execution_count": 15,
   "id": "05ed82f3-aee7-4230-ad38-eae608d01e99",
   "metadata": {},
   "outputs": [],
   "source": [
    "with open('input_day1.txt', 'rt') as f:\n",
    "    input_prd=[int(x) for x in f.read().split('\\n') if x != '']"
   ]
  },
  {
   "cell_type": "code",
   "execution_count": 16,
   "id": "764904e7-7efd-46fc-b447-1a3702b55ef0",
   "metadata": {},
   "outputs": [],
   "source": [
    "input_stg=[199, 200, 208, 210, 200, 207, 240, 269, 260, 263]"
   ]
  },
  {
   "cell_type": "code",
   "execution_count": 26,
   "id": "ea1cb1d0-a5f6-4394-aec1-0370a3b13333",
   "metadata": {},
   "outputs": [],
   "source": [
    "#input=np.array(input_stg)\n",
    "input=np.array(input_prd)"
   ]
  },
  {
   "cell_type": "code",
   "execution_count": 27,
   "id": "a1f9f566-9c89-4b3c-9ecf-1ac467f445c4",
   "metadata": {},
   "outputs": [
    {
     "data": {
      "text/plain": [
       "1624"
      ]
     },
     "execution_count": 27,
     "metadata": {},
     "output_type": "execute_result"
    }
   ],
   "source": [
    "len([x for x in (input[1:]-input[:-1])>0 if x])"
   ]
  },
  {
   "cell_type": "code",
   "execution_count": 28,
   "id": "defda961-4673-4e7e-9236-19a5b3ea0dc2",
   "metadata": {},
   "outputs": [],
   "source": [
    "# PArt 2"
   ]
  },
  {
   "cell_type": "code",
   "execution_count": 38,
   "id": "7f649bb0-55a8-405d-a50f-872d25a33e85",
   "metadata": {},
   "outputs": [],
   "source": [
    "#input=np.array(input_stg)\n",
    "input=np.array(input_prd)"
   ]
  },
  {
   "cell_type": "code",
   "execution_count": 39,
   "id": "821ed865-f42a-4f66-9570-399236d17f39",
   "metadata": {},
   "outputs": [],
   "source": [
    "input_windowed=np.sum(sliding_window_view(input, 3), 1)"
   ]
  },
  {
   "cell_type": "code",
   "execution_count": 40,
   "id": "5b07d4ba-a57f-4194-a2f9-9c39e2370fc9",
   "metadata": {},
   "outputs": [
    {
     "data": {
      "text/plain": [
       "1653"
      ]
     },
     "execution_count": 40,
     "metadata": {},
     "output_type": "execute_result"
    }
   ],
   "source": [
    "len([x for x in (input_windowed[1:]-input_windowed[:-1])>0 if x])"
   ]
  },
  {
   "cell_type": "code",
   "execution_count": null,
   "id": "98d398a8-29d5-4db1-84e6-d3fd5d0ea62c",
   "metadata": {},
   "outputs": [],
   "source": []
  }
 ],
 "metadata": {
  "kernelspec": {
   "display_name": "Python 3 (ipykernel)",
   "language": "python",
   "name": "python3"
  },
  "language_info": {
   "codemirror_mode": {
    "name": "ipython",
    "version": 3
   },
   "file_extension": ".py",
   "mimetype": "text/x-python",
   "name": "python",
   "nbconvert_exporter": "python",
   "pygments_lexer": "ipython3",
   "version": "3.10.0"
  }
 },
 "nbformat": 4,
 "nbformat_minor": 5
}
