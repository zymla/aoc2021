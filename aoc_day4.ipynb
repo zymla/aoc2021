{
 "cells": [
  {
   "cell_type": "code",
   "execution_count": 1,
   "id": "d1de7b10-6817-4db6-a0d8-95c82d949680",
   "metadata": {},
   "outputs": [],
   "source": [
    "import numpy as np\n",
    "import re"
   ]
  },
  {
   "cell_type": "code",
   "execution_count": 70,
   "id": "cea4f2c6-bfe0-4b4b-b1b9-f0888d0dbe3f",
   "metadata": {},
   "outputs": [
    {
     "name": "stdout",
     "output_type": "stream",
     "text": [
      "['1,76,38,96,62,41,27,33,4,2,94,15,89,25,66,14,30,0,71,21,48,44,87,73,60,50,77,45,29,18,5,99,65,16,93,95,37,3,52,32,46,80,98,63,92,24,35,55,12,81,51,17,70,78,61,91,54,8,72,40,74,68,75,67,39,64,10,53,9,31,6,7,47,42,90,20,19,36,22,43,58,28,79,86,57,49,83,84,97,11,85,26,69,23,59,82,88,34,56,13', '', '85 23 65 78 93', '27 53 10 12 26', ' 5 34 83 25  6', '56 40 73 29 54', '33 68 41 32 82', '', ' 8 31 14 70 91', '53 49 86 13 21', '66 28 76 78 93', '39 63 80 43 23', '56 25 60 67 72', '', '67 78 36 64 14', '46 16 80 23 94', '22 47 51 65 57', '33 76 21 92 97', '31 95 54 27 20', '', ' 1 77 86 43 30', '28 88  7  5 60', '66 24  3 57 33', '38 23 59 84 44', '74 47 17 29 85', '', '21 50 86  2 70', '85 19 22 93 25', '99 38 74 30 65', '81  0 47 78 63', '34 11 51 88 64', '', '45 15 29 81 30', '75 21 88 91 49', '39 20  4 17 78', '10 12 38 11  7', '98  6 65 69 86', '', '36 20 31 44 69', '30 65 55 88 64', '74 85 82 61  5', '57 17 90 43 54', '58 83 52 23  7', '', '42 16 82 86 76', '60 26 27 59 55', ' 7 53 22 78  5', '18 61 10 15 17', '28 46 14 87 77', '', '21 43 15 47 61', '24 76 28  3 27', '19 62 69 82 93', '49 29 97 74 41', '92 36 37 99 40', '', '31  4  3 62 51', '24 57 78 67 53', '13  5 76 38 55', '79  9 75 98 71', '65  1 39 18 47', '', '59  4 38 95 99', '85 68 69 93 43', '83 57 48 42 15', '47 50 80 79 90', '56 87 78 64 25', '', '21 37 14 67 95', '88 39 26 38 49', '89 83 54 77 96', '48 86 94 19 20', '43 41  8 74 58', '', ' 1 36 12 90 91', '63 21 98 82 66', '39 86  7 52 77', '80 81 44 33 58', '78 30 11 51 28', '', '81 74  7 33 96', '75 60 87 47 91', '39 73 30 50 13', ' 4 41  9 43 77', '34 82 72 48 12', '', '93 63 74 25 57', '29 76  9 45 70', '98 77 71 16 41', '47 54 18 14 55', '31 89 67 87 83', '', ' 8 72 45 93 68', '74 26 69 94 65', '28  9 20 47 41', '46 54 21 56 22', '84 62 18 15 48', '', '20 51 81 40 69', '71 10 13 93 75']\n"
     ]
    }
   ],
   "source": [
    "with open('input_day4_prd.txt', 'rt') as f:\n",
    "#with open('input_day4_stg.txt', 'rt') as f:\n",
    "    input=f.read().split('\\n')\n",
    "print(input[0:100])"
   ]
  },
  {
   "cell_type": "code",
   "execution_count": 71,
   "id": "769b7a23-e374-4894-9c8b-934c40927b30",
   "metadata": {},
   "outputs": [],
   "source": [
    "# Parse"
   ]
  },
  {
   "cell_type": "code",
   "execution_count": 72,
   "id": "df453c9f-6e82-450d-bac4-fd2d8ed4c10c",
   "metadata": {},
   "outputs": [
    {
     "name": "stdout",
     "output_type": "stream",
     "text": [
      "draw:\t[1, 76, 38, 96, 62, 41, 27, 33, 4, 2, 94, 15, 89, 25, 66, 14, 30, 0, 7...\n",
      "(raw:\t85 23 65 78 93)\n",
      "600\n"
     ]
    },
    {
     "data": {
      "text/plain": [
       "array([[[85, 23, 65, 78, 93],\n",
       "        [27, 53, 10, 12, 26],\n",
       "        [ 5, 34, 83, 25,  6],\n",
       "        [56, 40, 73, 29, 54],\n",
       "        [33, 68, 41, 32, 82]],\n",
       "\n",
       "       [[ 8, 31, 14, 70, 91],\n",
       "        [53, 49, 86, 13, 21],\n",
       "        [66, 28, 76, 78, 93],\n",
       "        [39, 63, 80, 43, 23],\n",
       "        [56, 25, 60, 67, 72]],\n",
       "\n",
       "       [[67, 78, 36, 64, 14],\n",
       "        [46, 16, 80, 23, 94],\n",
       "        [22, 47, 51, 65, 57],\n",
       "        [33, 76, 21, 92, 97],\n",
       "        [31, 95, 54, 27, 20]],\n",
       "\n",
       "       ...,\n",
       "\n",
       "       [[38, 47,  7, 20, 35],\n",
       "        [45, 76, 63, 96, 24],\n",
       "        [98, 53,  2, 87, 80],\n",
       "        [83, 86, 92, 48,  1],\n",
       "        [73, 60, 26, 94,  6]],\n",
       "\n",
       "       [[80, 50, 29, 53, 92],\n",
       "        [66, 90, 79, 98, 46],\n",
       "        [40, 21, 58, 38, 60],\n",
       "        [35, 13, 72, 28,  6],\n",
       "        [48, 76, 51, 96, 12]],\n",
       "\n",
       "       [[79, 80, 24, 37, 51],\n",
       "        [86, 70,  1, 22, 71],\n",
       "        [52, 69, 10, 83, 13],\n",
       "        [12, 40,  3,  0, 30],\n",
       "        [46, 50, 48, 76,  5]]])"
      ]
     },
     "execution_count": 72,
     "metadata": {},
     "output_type": "execute_result"
    }
   ],
   "source": [
    "draw=[int(x) for x in input.pop(0).split(',')] # Get 1st line\n",
    "input.pop(0) # skip 2nd line\n",
    "print('draw:', str(draw)[0:70]+'...', sep='\\t')\n",
    "print('(raw:', str(input[0])+')', sep='\\t')\n",
    "print(len(input))\n",
    "boards=[]\n",
    "for i in range(len(input)//6):\n",
    "    single_board=[]\n",
    "    for j in range(5):\n",
    "        row=input.pop(0)\n",
    "        single_board.append([int(x) for x in re.split('\\s+', row.strip())])\n",
    "    input.pop(0)\n",
    "    boards.append(single_board)\n",
    "boards=np.array(boards)\n",
    "boards"
   ]
  },
  {
   "cell_type": "code",
   "execution_count": 73,
   "id": "36a30558-7d98-47e5-acd3-639928a4ac0b",
   "metadata": {},
   "outputs": [
    {
     "name": "stdout",
     "output_type": "stream",
     "text": [
      "30 5\n",
      "1137 * 5  =\t 5685\n"
     ]
    }
   ],
   "source": [
    "marked=boards==-1\n",
    "for i, chosen in enumerate(draw):\n",
    "    marked|=(boards==chosen)\n",
    "    winning_rows=[[all(v) for v in a] for a in marked]\n",
    "    winning_cols=[[all(v) for v in a.T] for a in marked]\n",
    "    rows_win=any([any(b) for b in winning_rows])\n",
    "    cols_win=any([any(b) for b in winning_cols])\n",
    "    if  rows_win | cols_win:\n",
    "        print(i, chosen)\n",
    "        break\n",
    "boards_nonmarked=np.where(marked, 0, boards)\n",
    "pts=boards_nonmarked[[any(b) for b in (winning_rows if rows_win else winning_cols)]][0].sum()\n",
    "print(pts, '*', chosen, ' =\\t', pts*chosen)\n",
    "\n"
   ]
  },
  {
   "cell_type": "code",
   "execution_count": 74,
   "id": "d0078bc8-3dcd-4dfb-99f1-5b469673403f",
   "metadata": {},
   "outputs": [],
   "source": [
    "# Part 2"
   ]
  },
  {
   "cell_type": "code",
   "execution_count": 75,
   "id": "df6ba3dc-5c3d-4dc8-b343-545379f02d3e",
   "metadata": {},
   "outputs": [
    {
     "name": "stdout",
     "output_type": "stream",
     "text": [
      "85 \t [53. 69. 72. 81. 60. 49. 84. 51. 59. 63. 79. 63. 64. 71. 33. 61. 59. 71.\n",
      " 55. 58. 68. 51. 62. 32. 56. 54. 58. 77. 57. 55. 45. 66. 59. 39. 54. 36.\n",
      " 30. 61. 59. 67. 62. 45. 58. 32. 81. 55. 60. 58. 73. 60. 43. 52. 72. 68.\n",
      " 73. 54. 58. 60. 62. 70. 64. 71. 75. 58. 67. 34. 49. 65. 43. 50. 81. 71.\n",
      " 85. 78. 55. 66. 49. 74. 37. 62. 62. 66. 40. 52. 57. 69. 37. 37. 61. 73.\n",
      " 49. 71. 58. 40. 67. 72. 49. 45. 50. 40.]\n",
      "430 * 49  =\t 21070\n"
     ]
    }
   ],
   "source": [
    "n=boards.shape[0]\n",
    "winning_round=np.ones(n)*np.Inf\n",
    "marked=boards==-1\n",
    "for i, chosen in enumerate(draw):\n",
    "    marked|=(boards==chosen)\n",
    "    winning_rows=[[all(v) for v in a] for a in marked]\n",
    "    winning_cols=[[all(v) for v in a.T] for a in marked]\n",
    "    rows_win=any([any(b) for b in winning_rows])\n",
    "    cols_win=any([any(b) for b in winning_cols])\n",
    "    winning_round=np.minimum(winning_round, [i if any(b) else np.inf for b in winning_cols])\n",
    "    winning_round=np.minimum(winning_round, [i if any(b) else np.inf for b in winning_rows])\n",
    "    if not any(np.isinf(winning_round)):\n",
    "        print(i, '\\t', winning_round)\n",
    "        break\n",
    "boards_nonmarked=np.where(marked, 0, boards)\n",
    "last_board=list(winning_round).index(winning_round.max())\n",
    "pts=boards_nonmarked[last_board].sum()\n",
    "print(pts, '*', chosen, ' =\\t', pts*chosen)\n",
    "\n",
    "\n"
   ]
  },
  {
   "cell_type": "code",
   "execution_count": null,
   "id": "629f653f-279b-479d-a3f6-d9c45ac137f3",
   "metadata": {},
   "outputs": [],
   "source": []
  }
 ],
 "metadata": {
  "kernelspec": {
   "display_name": "Python 3 (ipykernel)",
   "language": "python",
   "name": "python3"
  },
  "language_info": {
   "codemirror_mode": {
    "name": "ipython",
    "version": 3
   },
   "file_extension": ".py",
   "mimetype": "text/x-python",
   "name": "python",
   "nbconvert_exporter": "python",
   "pygments_lexer": "ipython3",
   "version": "3.10.0"
  }
 },
 "nbformat": 4,
 "nbformat_minor": 5
}
