{
 "cells": [
  {
   "cell_type": "code",
   "execution_count": 62,
   "id": "7409dcba-b799-4f18-9f41-076ff219900d",
   "metadata": {},
   "outputs": [],
   "source": [
    "import numpy as np\n",
    "import re\n",
    "import json\n",
    "import copy"
   ]
  },
  {
   "cell_type": "code",
   "execution_count": 9,
   "id": "c75de7a3-7bc6-4796-b604-d7a065a6708d",
   "metadata": {},
   "outputs": [
    {
     "name": "stdout",
     "output_type": "stream",
     "text": [
      "['[1,2]', '[[1,2],3]', '[9,[8,7]]', '[[1,9],[8,5]]', '[[[[1,2],[3,4]],[[5,6],[7,8]]],9]', '[[[9,[3,8]],[[0,9],6]],[[[3,7],[4,9]],3]]', '[[[[1,3],[5,3]],[[1,3],[8,7]]],[[[4,9],[6,9]],[[8,2],[7,3]]]]']\n"
     ]
    }
   ],
   "source": [
    "with open('input_day18_stg.txt', 'rt') as f:\n",
    "    input_raw=f.read().splitlines()\n",
    "print(input_raw)"
   ]
  },
  {
   "cell_type": "code",
   "execution_count": 11,
   "id": "f1cbcf50-2bdd-4e69-a1fc-3d09059c4d33",
   "metadata": {},
   "outputs": [
    {
     "data": {
      "text/plain": [
       "[[1, 2],\n",
       " [[1, 2], 3],\n",
       " [9, [8, 7]],\n",
       " [[1, 9], [8, 5]],\n",
       " [[[[1, 2], [3, 4]], [[5, 6], [7, 8]]], 9],\n",
       " [[[9, [3, 8]], [[0, 9], 6]], [[[3, 7], [4, 9]], 3]],\n",
       " [[[[1, 3], [5, 3]], [[1, 3], [8, 7]]], [[[4, 9], [6, 9]], [[8, 2], [7, 3]]]]]"
      ]
     },
     "execution_count": 11,
     "metadata": {},
     "output_type": "execute_result"
    }
   ],
   "source": [
    "input=[json.loads(l) for l in input_raw]\n",
    "input"
   ]
  },
  {
   "cell_type": "code",
   "execution_count": 17,
   "id": "98ad6f22-d436-4273-8c5b-74384a5abdd4",
   "metadata": {},
   "outputs": [
    {
     "data": {
      "text/plain": [
       "range(0, 3)"
      ]
     },
     "execution_count": 17,
     "metadata": {},
     "output_type": "execute_result"
    }
   ],
   "source": [
    "range(len([1,2,3]))"
   ]
  },
  {
   "cell_type": "code",
   "execution_count": 166,
   "id": "21546237-e407-4fe7-8192-1531ad3b65d5",
   "metadata": {},
   "outputs": [],
   "source": [
    "def find_level(s, level):\n",
    "    if level==-1:\n",
    "        return True, []\n",
    "    if type(s) is list:\n",
    "        for i in range(2):\n",
    "            found, stack=find_level(s[i], level-1)\n",
    "            if found:\n",
    "                print('found: ', level, stack+[i], s)\n",
    "                return True, stack+[i]\n",
    "    return False, []\n",
    "\n",
    "def get_snail(s, pos):\n",
    "    r = s\n",
    "    for p in pos:\n",
    "        if type(r) != list:\n",
    "            return []\n",
    "        r = r[p]\n",
    "    return r\n",
    "\n",
    "def find_left(s, pos):\n",
    "    stack=copy.deepcopy(pos)\n",
    "    while len(stack):\n",
    "        print(stack)\n",
    "        if stack[-1]==1:\n",
    "            # go left, and try to go up, right\n",
    "            stack[-1]=0\n",
    "            while (type(get_snail(s, stack))==list)&(get_snail(s, stack)!=[]) :\n",
    "                print(stack)\n",
    "                stack.append(1)\n",
    "                print('S', get_snail(s, stack))\n",
    "\n",
    "            if type(get_snail(s, stack))==int:\n",
    "                break\n",
    "        else :\n",
    "            stack.pop()\n",
    "    print(stack)\n",
    "    return stack\n",
    "\n",
    "def find_right(s, pos):\n",
    "    stack=copy.deepcopy(pos)\n",
    "    while len(stack):\n",
    "        print(stack)\n",
    "        if stack[-1]==0:\n",
    "            # go right, and try to go up, left\n",
    "            stack[-1]=1\n",
    "            while (type(get_snail(s, stack))==list)&(get_snail(s, stack)!=[]) :\n",
    "                print(stack)\n",
    "                stack.append(0)\n",
    "                print('S', get_snail(s, stack))\n",
    "\n",
    "            if type(get_snail(s, stack))==int:\n",
    "                break\n",
    "        else :\n",
    "            stack.pop()\n",
    "    print(stack)\n",
    "    return stack\n",
    "\n",
    "def remove(s, pos):\n",
    "    s[pos[:-1]]=s[pos[:-1][1-pos[-1]]\n",
    "\n",
    "def add(a, b):\n",
    "    s=copy.deepcopy([a, b])\n",
    "    print(s)\n",
    "    stack=[]\n",
    "    \n",
    "    found, sl4=find_level(s, 4)\n",
    "    vl4=get_snail(s, sl4)\n",
    "    if found:\n",
    "        print('Level 4\\t', sl4)\n",
    "        found_left, sleft = find_left(s, sl4)\n",
    "        if found_left:\n",
    "            print('Found left\\t', sleft)\n",
    "            val_left=get_snail(s, sleft)\n",
    "            s\n",
    "        else:\n",
    "            print('Didn''t find left')"
   ]
  },
  {
   "cell_type": "code",
   "execution_count": 167,
   "id": "46fb88d2-f0e4-4ac9-b231-167057733a12",
   "metadata": {},
   "outputs": [
    {
     "name": "stdout",
     "output_type": "stream",
     "text": [
      "[]\n"
     ]
    }
   ],
   "source": [
    "print(get_snail(input[5], [1, 1, 1, 0]))"
   ]
  },
  {
   "cell_type": "code",
   "execution_count": 173,
   "id": "bd4710c2-d0bc-4c1a-8f59-4c4f3dc1ecd5",
   "metadata": {},
   "outputs": [
    {
     "name": "stdout",
     "output_type": "stream",
     "text": [
      "8\n",
      "[3, 8]\n",
      "[1, 1, 1, 0]\n",
      "[1, 1, 1]\n",
      "[1, 1, 0]\n",
      "[1, 1]\n",
      "[1, 0]\n",
      "S [4, 9]\n",
      "[1, 0, 1]\n",
      "S 9\n",
      "[1, 0, 1, 1]\n",
      "=====\n",
      "[[[9, [3, 8]], [[0, 9], 6]], [[[3, 7], [4, 9]], 3]]\n",
      "[0, 1, 0, 0]\n",
      "[0, 1, 0]\n",
      "[0, 1]\n",
      "[0, 0]\n",
      "S [3, 8]\n",
      "[0, 0, 1]\n",
      "S 8\n",
      "[0, 0, 1, 1]\n"
     ]
    },
    {
     "data": {
      "text/plain": [
       "8"
      ]
     },
     "execution_count": 173,
     "metadata": {},
     "output_type": "execute_result"
    }
   ],
   "source": [
    "print(get_snail(input[5], [0, 0, 1, 1]))\n",
    "print(get_snail(input[5], [0, 0, 1, ]))\n",
    "find_left(input[5], [1, 1, 1, 0])\n",
    "print('=====')\n",
    "print(input[5])\n",
    "get_snail(input[5], find_left(input[5], [0, 1, 0, 0]))\n",
    "#add(input[4], input[5])"
   ]
  },
  {
   "cell_type": "code",
   "execution_count": null,
   "id": "af1dbc2d-6e3c-41a3-aa6f-0a6fccaa6156",
   "metadata": {},
   "outputs": [],
   "source": [
    "a=[0, 1, 2, 3]\n",
    "print(a)\n",
    "a.pop()\n",
    "print(a)"
   ]
  },
  {
   "cell_type": "code",
   "execution_count": null,
   "id": "2707e3d8-0cc8-489d-b0e5-c8208e04e0b2",
   "metadata": {},
   "outputs": [],
   "source": []
  }
 ],
 "metadata": {
  "kernelspec": {
   "display_name": "Python 3 (ipykernel)",
   "language": "python",
   "name": "python3"
  },
  "language_info": {
   "codemirror_mode": {
    "name": "ipython",
    "version": 3
   },
   "file_extension": ".py",
   "mimetype": "text/x-python",
   "name": "python",
   "nbconvert_exporter": "python",
   "pygments_lexer": "ipython3",
   "version": "3.10.0"
  }
 },
 "nbformat": 4,
 "nbformat_minor": 5
}
