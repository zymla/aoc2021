{
 "cells": [
  {
   "cell_type": "code",
   "execution_count": 1,
   "id": "de75c977-d332-4b99-8079-1a56f4b5e396",
   "metadata": {},
   "outputs": [
    {
     "name": "stdout",
     "output_type": "stream",
     "text": [
      "be cfbegad cbdgef fgaecd cgeb fdcge agebfd fecdb fabcd edb | fdgacbe cefdb cefbgd gcbe\n",
      "edbfga begcd cbg gc gcadebf fbgde acbgfd abcde gfcbed gfec | fcgedb cgb dgebacf gc\n",
      "fgaebd cg bdaec gdafb agbcfd gdcbef bgcad gfac gcb cdgabef | cg cg fdcagb cbg\n",
      "fbegcd cbd adcefb dageb afcb bc aefdc ecdab fgdeca fcdbega | efabcd cedba gadfec cb\n",
      "aecbfdg fbg gf bafeg dbefa fcge gcbea fcaegb dgceab fcbdga | gecf egdcabf bgf bfgea\n",
      "fgeab ca afcebg bdacfeg cfaedg gcfdb baec bfadeg bafgc acf | gebdcfa ecba ca fadegcb\n"
     ]
    }
   ],
   "source": [
    "with open('input_day8_stg.txt', 'rt') as f:\n",
    "    input_stg=f.read() #[x for x in f.read().split('\\n') if x != '']\n",
    "print(input_stg[0:500])"
   ]
  },
  {
   "cell_type": "code",
   "execution_count": 24,
   "id": "cdcc4709-86a0-40f6-8af9-40db20827617",
   "metadata": {},
   "outputs": [
    {
     "name": "stdout",
     "output_type": "stream",
     "text": [
      "badf gadfec bgcad ad dbcfg gcaeb fecdgab gad bgcadf efcdgb | gcadb ad agd deacfg\n",
      "adgfeb dagecf ceadg edabc ceg dfacebg fgead gfcd becagf gc | acdeg efbcag agfcde fagceb\n",
      "fedgcb gcadb edgcf af fbcedga gdafce faebcg acf deaf gdafc | edafcg fa ecagfd acdbg\n",
      "gafced gac bdfeagc dface aedbg agedc cg cgef dafcgb cbeafd | dgcae ceadf cga abdfce\n",
      "bgda cdg dacbe cfega begcafd febacd degcba adecg edcfbg gd | dfecbg dg defgcb gfcea\n",
      "bc gadebc bdc gebfd cefb bfgdcae cgdfb dcebgf bgaedf cfadg | cdbega begfda gfca\n"
     ]
    }
   ],
   "source": [
    "with open('input_day8_prd.txt', 'rt') as f:\n",
    "    input_prd=f.read() #[x for x in f.read().split('\\n') if x != '']\n",
    "print(input_prd[0:500])"
   ]
  },
  {
   "cell_type": "code",
   "execution_count": 34,
   "id": "611c8053-5868-489e-8628-41c44a378ed6",
   "metadata": {},
   "outputs": [
    {
     "data": {
      "text/plain": [
       "['badf gadfec bgcad ad dbcfg gcaeb fecdgab gad bgcadf efcdgb | gcadb ad agd deacfg',\n",
       " 'adgfeb dagecf ceadg edabc ceg dfacebg fgead gfcd becagf gc | acdeg efbcag agfcde fagceb',\n",
       " 'fedgcb gcadb edgcf af fbcedga gdafce faebcg acf deaf gdafc | edafcg fa ecagfd acdbg',\n",
       " 'gafced gac bdfeagc dface aedbg agedc cg cgef dafcgb cbeafd | dgcae ceadf cga abdfce',\n",
       " 'bgda cdg dacbe cfega begcafd febacd degcba adecg edcfbg gd | dfecbg dg defgcb gfcea']"
      ]
     },
     "execution_count": 34,
     "metadata": {},
     "output_type": "execute_result"
    }
   ],
   "source": [
    "input=input_prd.splitlines()\n",
    "input[0:5]"
   ]
  },
  {
   "cell_type": "code",
   "execution_count": 35,
   "id": "89ef0321-b601-41ba-884f-5e402c848757",
   "metadata": {},
   "outputs": [
    {
     "data": {
      "text/plain": [
       "['3170',\n",
       " '3090',\n",
       " '9192',\n",
       " '3576',\n",
       " '0102',\n",
       " '0625',\n",
       " '6765',\n",
       " '7116',\n",
       " '3954',\n",
       " '2268',\n",
       " '5587',\n",
       " '9369',\n",
       " '4848',\n",
       " '3828',\n",
       " '3965',\n",
       " '8159',\n",
       " '9488',\n",
       " '8267',\n",
       " '2303',\n",
       " '5413',\n",
       " '9130',\n",
       " '1156',\n",
       " '5799',\n",
       " '2723',\n",
       " '7133',\n",
       " '3948',\n",
       " '2894',\n",
       " '3825',\n",
       " '5225',\n",
       " '9305',\n",
       " '0991',\n",
       " '3220',\n",
       " '5593',\n",
       " '1936',\n",
       " '7240',\n",
       " '7416',\n",
       " '9822',\n",
       " '9056',\n",
       " '0465',\n",
       " '0119',\n",
       " '1915',\n",
       " '5958',\n",
       " '9045',\n",
       " '5030',\n",
       " '4549',\n",
       " '6099',\n",
       " '6268',\n",
       " '0303',\n",
       " '9057',\n",
       " '8271',\n",
       " '0897',\n",
       " '2106',\n",
       " '8675',\n",
       " '9536',\n",
       " '6770',\n",
       " '0379',\n",
       " '4583',\n",
       " '6199',\n",
       " '9305',\n",
       " '5043',\n",
       " '5504',\n",
       " '5225',\n",
       " '1291',\n",
       " '9942',\n",
       " '2363',\n",
       " '2892',\n",
       " '6998',\n",
       " '9463',\n",
       " '5500',\n",
       " '1527',\n",
       " '7299',\n",
       " '9955',\n",
       " '5152',\n",
       " '3536',\n",
       " '8920',\n",
       " '9482',\n",
       " '3384',\n",
       " '2593',\n",
       " '2609',\n",
       " '5417',\n",
       " '6600',\n",
       " '1764',\n",
       " '7345',\n",
       " '4188',\n",
       " '1032',\n",
       " '7251',\n",
       " '1636',\n",
       " '6520',\n",
       " '0915',\n",
       " '5655',\n",
       " '6331',\n",
       " '2253',\n",
       " '0339',\n",
       " '4326',\n",
       " '1250',\n",
       " '9589',\n",
       " '4215',\n",
       " '0490',\n",
       " '4799',\n",
       " '7002',\n",
       " '0941',\n",
       " '2254',\n",
       " '8557',\n",
       " '6368',\n",
       " '9065',\n",
       " '9330',\n",
       " '7242',\n",
       " '1253',\n",
       " '2904',\n",
       " '5306',\n",
       " '1177',\n",
       " '9066',\n",
       " '2438',\n",
       " '8524',\n",
       " '7055',\n",
       " '1893',\n",
       " '1965',\n",
       " '5256',\n",
       " '2435',\n",
       " '1391',\n",
       " '6417',\n",
       " '6150',\n",
       " '0656',\n",
       " '5920',\n",
       " '3589',\n",
       " '5114',\n",
       " '5925',\n",
       " '5916',\n",
       " '7272',\n",
       " '4526',\n",
       " '9892',\n",
       " '4919',\n",
       " '3513',\n",
       " '5503',\n",
       " '5449',\n",
       " '2620',\n",
       " '2408',\n",
       " '0313',\n",
       " '4504',\n",
       " '5557',\n",
       " '2845',\n",
       " '5413',\n",
       " '5941',\n",
       " '0310',\n",
       " '6619',\n",
       " '0731',\n",
       " '6067',\n",
       " '3935',\n",
       " '3900',\n",
       " '3488',\n",
       " '0280',\n",
       " '3612',\n",
       " '3704',\n",
       " '7306',\n",
       " '8975',\n",
       " '6956',\n",
       " '7803',\n",
       " '2041',\n",
       " '0155',\n",
       " '5392',\n",
       " '8303',\n",
       " '8730',\n",
       " '3066',\n",
       " '7593',\n",
       " '7804',\n",
       " '4248',\n",
       " '2241',\n",
       " '7039',\n",
       " '0209',\n",
       " '7185',\n",
       " '8268',\n",
       " '0146',\n",
       " '2651',\n",
       " '6647',\n",
       " '0286',\n",
       " '8045',\n",
       " '2189',\n",
       " '2090',\n",
       " '6695',\n",
       " '0533',\n",
       " '2449',\n",
       " '6485',\n",
       " '9269',\n",
       " '2506',\n",
       " '7337',\n",
       " '5021',\n",
       " '0206',\n",
       " '8312',\n",
       " '5244',\n",
       " '8606',\n",
       " '8563',\n",
       " '5933',\n",
       " '2154',\n",
       " '2677',\n",
       " '4267',\n",
       " '6160',\n",
       " '9251',\n",
       " '1805',\n",
       " '6280',\n",
       " '9856']"
      ]
     },
     "execution_count": 35,
     "metadata": {},
     "output_type": "execute_result"
    }
   ],
   "source": [
    "output=[]\n",
    "for entry in input:\n",
    "    train_raw, data = entry.split(' | ')\n",
    "    train=sorted([''.join(sorted(list(x))) for x in train_raw.split(' ')], key=lambda l: len(l))\n",
    "\n",
    "    ## the segment count is enough to decode these\n",
    "    decoded ={\n",
    "        '1': [x for x in train if len(x) == 2][0], \n",
    "        '7': [x for x in train if len(x) == 3][0], \n",
    "        '4': [x for x in train if len(x) == 4][0], \n",
    "        '8': [x for x in train if len(x) == 7][0]}\n",
    "\n",
    "    ## 6 segments [0, 6, 9]\n",
    "    seg=[x for x in train if len(x) == 6]\n",
    "    # 9 contains 4\n",
    "    mask=[set(decoded['4']).issubset(set(x)) for x in seg]\n",
    "    decoded['9']=seg[mask.index(True)]\n",
    "    seg=[seg[i] for i, b in enumerate(mask) if not b]\n",
    "    # 0 contains 7\n",
    "    mask=[set(decoded['7']).issubset(set(x)) for x in seg]\n",
    "    decoded['0']=seg[mask.index(True)]\n",
    "    seg=[seg[i] for i, b in enumerate(mask) if not b]\n",
    "    # remains 6\n",
    "    decoded['6']=seg[0]\n",
    "\n",
    "    ## 5 segments [2, 3, 5]\n",
    "    seg=[x for x in train if len(x) == 5]\n",
    "    # 3 contains 7\n",
    "    mask=[set(decoded['7']).issubset(set(x)) for x in seg]\n",
    "    decoded['3']=seg[mask.index(True)]\n",
    "    seg=[seg[i] for i, b in enumerate(mask) if not b]\n",
    "    # 5 is contains in 6\n",
    "    mask=[set(x).issubset(set(decoded['6'])) for x in seg]\n",
    "    decoded['5']=seg[mask.index(True)]\n",
    "    seg=[seg[i] for i, b in enumerate(mask) if not b]\n",
    "    # remains 2\n",
    "    decoded['2']=seg[0]\n",
    "    reverse_decoded=dict([(v,k) for k, v in decoded.items()])\n",
    "    output.append(''.join([reverse_decoded[''.join(sorted(list(x)))] for x in data.split(' ')]))\n",
    "\n",
    "output\n",
    "\n"
   ]
  },
  {
   "cell_type": "code",
   "execution_count": 36,
   "id": "91aecc4d-8a29-45ee-bf10-c8c32e9ce915",
   "metadata": {},
   "outputs": [
    {
     "data": {
      "text/plain": [
       "245"
      ]
     },
     "execution_count": 36,
     "metadata": {},
     "output_type": "execute_result"
    }
   ],
   "source": [
    "output_long=[digit for single_output in output for digit in single_output]\n",
    "output_long.count('1')+output_long.count('4')+output_long.count('7')+output_long.count('8')"
   ]
  },
  {
   "cell_type": "code",
   "execution_count": 37,
   "id": "b6c9ae94-2115-4b9a-b86f-705c80e7bab1",
   "metadata": {},
   "outputs": [],
   "source": [
    "# Part 2"
   ]
  },
  {
   "cell_type": "code",
   "execution_count": 38,
   "id": "d1b3b851-474b-4fc9-b7cd-d2ef50cad4aa",
   "metadata": {},
   "outputs": [
    {
     "data": {
      "text/plain": [
       "983026"
      ]
     },
     "execution_count": 38,
     "metadata": {},
     "output_type": "execute_result"
    }
   ],
   "source": [
    "sum(int(x) for x in output)"
   ]
  },
  {
   "cell_type": "code",
   "execution_count": null,
   "id": "af3d02c9-920e-43ff-9fac-c254d576df76",
   "metadata": {},
   "outputs": [],
   "source": []
  }
 ],
 "metadata": {
  "kernelspec": {
   "display_name": "Python 3 (ipykernel)",
   "language": "python",
   "name": "python3"
  },
  "language_info": {
   "codemirror_mode": {
    "name": "ipython",
    "version": 3
   },
   "file_extension": ".py",
   "mimetype": "text/x-python",
   "name": "python",
   "nbconvert_exporter": "python",
   "pygments_lexer": "ipython3",
   "version": "3.10.0"
  }
 },
 "nbformat": 4,
 "nbformat_minor": 5
}
