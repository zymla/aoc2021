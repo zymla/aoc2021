{
 "cells": [
  {
   "cell_type": "code",
   "execution_count": 1,
   "id": "06524a88-76ed-488a-ae27-773eec41801d",
   "metadata": {},
   "outputs": [],
   "source": [
    "import numpy as np\n",
    "import re"
   ]
  },
  {
   "cell_type": "code",
   "execution_count": 240,
   "id": "bc0f7d75-9842-4a69-a030-f992ffff6f63",
   "metadata": {},
   "outputs": [
    {
     "name": "stdout",
     "output_type": "stream",
     "text": [
      "6,10\n",
      "0,14\n",
      "9,10\n",
      "0,3\n",
      "10,4\n",
      "4,11\n",
      "6,0\n",
      "6,12\n",
      "4,1\n",
      "0,13\n",
      "10,12\n",
      "3,4\n",
      "3,0\n",
      "8,4\n",
      "1,10\n",
      "2,14\n",
      "8,10\n",
      "9,0\n",
      "\n",
      "fold along y=7\n",
      "fold along x=5\n",
      "\n"
     ]
    }
   ],
   "source": [
    "with open('input_day13_stg.txt', 'rt') as f:\n",
    "    input_raw=f.read()\n",
    "print(input_raw[0:500])"
   ]
  },
  {
   "cell_type": "code",
   "execution_count": 241,
   "id": "5f636368-0b87-466f-88ef-c25d654bdacd",
   "metadata": {},
   "outputs": [
    {
     "name": "stdout",
     "output_type": "stream",
     "text": [
      "3,655\n",
      "1293,495\n",
      "432,187\n",
      "601,871\n",
      "803,47\n",
      "825,373\n",
      "259,110\n",
      "586,245\n",
      "412,436\n",
      "927,347\n",
      "345,775\n",
      "970,257\n",
      "870,311\n",
      "\n",
      "fold along x=655\n",
      "fold along y=447\n",
      "fold along x=327\n",
      "fold along y=223\n",
      "fold along x=163\n",
      "fold along y=111\n",
      "fold along x=81\n",
      "fold along y=55\n",
      "fold along x=40\n",
      "fold along y=27\n",
      "fold along y=13\n",
      "fold along y=6\n",
      "\n"
     ]
    }
   ],
   "source": [
    "with open('input_day13_prd.txt', 'rt') as f:\n",
    "    input_raw=f.read()\n",
    "print(input_raw[-300:])"
   ]
  },
  {
   "cell_type": "code",
   "execution_count": 242,
   "id": "d5fda7e0-dacc-421e-b1a7-32028f706f4e",
   "metadata": {},
   "outputs": [
    {
     "data": {
      "text/plain": [
       "[(724, 201),\n",
       " (596, 511),\n",
       " (883, 560),\n",
       " (637, 47),\n",
       " (869, 537),\n",
       " (251, 505),\n",
       " (851, 618),\n",
       " (980, 544),\n",
       " (818, 661),\n",
       " (1093, 390)]"
      ]
     },
     "execution_count": 242,
     "metadata": {},
     "output_type": "execute_result"
    }
   ],
   "source": [
    "indices=[tuple([int(x) for x in r.split(',')]) for r in input_raw.splitlines() if r.find(',') >= 0]\n",
    "indices[0:10]"
   ]
  },
  {
   "cell_type": "code",
   "execution_count": 243,
   "id": "f1fc0487-f3bd-49dd-b630-2cdd3c8ae2e8",
   "metadata": {},
   "outputs": [
    {
     "data": {
      "text/plain": [
       "(1309, 894)"
      ]
     },
     "execution_count": 243,
     "metadata": {},
     "output_type": "execute_result"
    }
   ],
   "source": [
    "xmax=max([idx[0] for idx in indices])\n",
    "ymax=max([idx[1] for idx in indices])\n",
    "xmax, ymax"
   ]
  },
  {
   "cell_type": "code",
   "execution_count": 255,
   "id": "2a9f06d9-cad4-4775-8341-2898d8ea7f8c",
   "metadata": {},
   "outputs": [],
   "source": [
    "def print_sheet(sheet):\n",
    "    for i, r in enumerate(sheet):\n",
    "        print(i, '\\t', end='')\n",
    "        for x in r:\n",
    "            if x:\n",
    "                print('X', end='')\n",
    "            else:\n",
    "                print(' ', end='')\n",
    "        print()"
   ]
  },
  {
   "cell_type": "code",
   "execution_count": 256,
   "id": "802ffb47-29cc-4f6d-ad80-ae97b9c5e151",
   "metadata": {},
   "outputs": [
    {
     "data": {
      "text/plain": [
       "(1310, 895)"
      ]
     },
     "execution_count": 256,
     "metadata": {},
     "output_type": "execute_result"
    }
   ],
   "source": [
    "sheet=np.zeros([xmax+1, ymax+1]).astype('int')\n",
    "#print(sheet)\n",
    "for idx in indices:\n",
    "    sheet[idx]=1\n",
    "#print_sheet(sheet)\n",
    "sheet.shape\n",
    "#print_sheet(sheet.T)"
   ]
  },
  {
   "cell_type": "code",
   "execution_count": 260,
   "id": "870168f4-781c-4bcb-a9a2-e96b38a24eec",
   "metadata": {},
   "outputs": [
    {
     "name": "stdout",
     "output_type": "stream",
     "text": [
      "(1311, 895)\n",
      "X 655 1310 (1311, 895)\n"
     ]
    }
   ],
   "source": [
    "sheet=np.zeros([xmax+1+1, ymax+1]).astype('int')\n",
    "for idx in indices:\n",
    "    sheet[idx]=1\n",
    "#print_sheet(sheet.T)\n",
    "print(sheet.shape)\n",
    "for r in input_raw.splitlines():\n",
    "    if r.find('fold along x') == 0:\n",
    "        xfold=int(r.split('=')[-1])\n",
    "        print('X', xfold, xfold*2, sheet.shape)\n",
    "        sheet=sheet[0:xfold]+sheet[xfold+1:][::-1]\n",
    "        break\n",
    "    elif r.find('fold along y') == 0:\n",
    "        yfold=int(r.split('=')[-1])\n",
    "        print('y', yfold, yfold*2, sheet.shape)\n",
    "        sheet=(sheet.T[0:yfold]+sheet.T[yfold+1:][::-1]).T\n",
    "\n"
   ]
  },
  {
   "cell_type": "code",
   "execution_count": 263,
   "id": "4b5d7b87-d27c-4030-a436-d55b3881eba8",
   "metadata": {},
   "outputs": [
    {
     "data": {
      "text/plain": [
       "(770, 2)"
      ]
     },
     "execution_count": 263,
     "metadata": {},
     "output_type": "execute_result"
    }
   ],
   "source": [
    "np.argwhere(sheet>0).shape"
   ]
  },
  {
   "cell_type": "code",
   "execution_count": 264,
   "id": "524d2069-a223-489f-9497-ad384182a708",
   "metadata": {},
   "outputs": [],
   "source": [
    "# Part 2"
   ]
  },
  {
   "cell_type": "code",
   "execution_count": 265,
   "id": "4d4b24ca-3c11-4e5a-a56c-c1e2a1823864",
   "metadata": {},
   "outputs": [
    {
     "name": "stdout",
     "output_type": "stream",
     "text": [
      "(1311, 895)\n",
      "X 655 1310 (1311, 895)\n",
      "y 447 894 (655, 895)\n",
      "X 327 654 (655, 447)\n",
      "y 223 446 (327, 447)\n",
      "X 163 326 (327, 223)\n",
      "y 111 222 (163, 223)\n",
      "X 81 162 (163, 111)\n",
      "y 55 110 (81, 111)\n",
      "X 40 80 (81, 55)\n",
      "y 27 54 (40, 55)\n",
      "y 13 26 (40, 27)\n",
      "y 6 12 (40, 13)\n"
     ]
    }
   ],
   "source": [
    "sheet=np.zeros([xmax+1+1, ymax+1]).astype('int')\n",
    "for idx in indices:\n",
    "    sheet[idx]=1\n",
    "#print_sheet(sheet.T)\n",
    "print(sheet.shape)\n",
    "for r in input_raw.splitlines():\n",
    "    if r.find('fold along x') == 0:\n",
    "        xfold=int(r.split('=')[-1])\n",
    "        print('X', xfold, xfold*2, sheet.shape)\n",
    "        sheet=sheet[0:xfold]+sheet[xfold+1:][::-1]\n",
    "#        break\n",
    "    elif r.find('fold along y') == 0:\n",
    "        yfold=int(r.split('=')[-1])\n",
    "        print('y', yfold, yfold*2, sheet.shape)\n",
    "        sheet=(sheet.T[0:yfold]+sheet.T[yfold+1:][::-1]).T\n",
    "\n",
    "\n"
   ]
  },
  {
   "cell_type": "code",
   "execution_count": 266,
   "id": "4d88d73d-da75-4436-bd7f-238ddd916828",
   "metadata": {},
   "outputs": [
    {
     "name": "stdout",
     "output_type": "stream",
     "text": [
      "0 \tXXXX XXX  X  X XXXX X    XXX  XXX  XXX  \n",
      "1 \tX    X  X X  X X    X    X  X X  X X  X \n",
      "2 \tXXX  X  X X  X XXX  X    X  X XXX  X  X \n",
      "3 \tX    XXX  X  X X    X    XXX  X  X XXX  \n",
      "4 \tX    X    X  X X    X    X    X  X X X  \n",
      "5 \tXXXX X     XX  XXXX XXXX X    XXX  X  X \n"
     ]
    }
   ],
   "source": [
    "print_sheet(sheet.T)"
   ]
  },
  {
   "cell_type": "code",
   "execution_count": null,
   "id": "756b7758-d2a2-4047-b62c-bc003ef3b602",
   "metadata": {},
   "outputs": [],
   "source": []
  }
 ],
 "metadata": {
  "kernelspec": {
   "display_name": "Python 3 (ipykernel)",
   "language": "python",
   "name": "python3"
  },
  "language_info": {
   "codemirror_mode": {
    "name": "ipython",
    "version": 3
   },
   "file_extension": ".py",
   "mimetype": "text/x-python",
   "name": "python",
   "nbconvert_exporter": "python",
   "pygments_lexer": "ipython3",
   "version": "3.10.0"
  }
 },
 "nbformat": 4,
 "nbformat_minor": 5
}
