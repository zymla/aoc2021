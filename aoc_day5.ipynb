{
 "cells": [
  {
   "cell_type": "code",
   "execution_count": 1,
   "id": "ad6542d6-b59f-4eda-bf42-12708bd3f7d7",
   "metadata": {},
   "outputs": [],
   "source": [
    "import numpy as np\n",
    "import re"
   ]
  },
  {
   "cell_type": "code",
   "execution_count": 9,
   "id": "2462113e-0f8d-4300-82b2-5d0cffebd8ac",
   "metadata": {},
   "outputs": [
    {
     "name": "stdout",
     "output_type": "stream",
     "text": [
      "0,9 -> 5,9\n",
      "8,0 -> 0,8\n",
      "9,4 -> 3,4\n",
      "2,2 -> 2,1\n",
      "7,0 -> 7,4\n",
      "6,4 -> 2,0\n",
      "0,9 -> 2,9\n",
      "3,4 -> 1,4\n",
      "0,0 -> 8,8\n",
      "5,5 -> 8,2\n",
      "\n",
      "\n"
     ]
    }
   ],
   "source": [
    "with open('input_day5_stg.txt', 'rt') as f:\n",
    "    input_raw=f.read() #[x for x in f.read().split('\\n') if x != '']\n",
    "print(input_raw[0:500])"
   ]
  },
  {
   "cell_type": "code",
   "execution_count": 18,
   "id": "1db90901-f188-4387-96c5-e2f7e3b531a9",
   "metadata": {},
   "outputs": [
    {
     "name": "stdout",
     "output_type": "stream",
     "text": [
      "905,103 -> 905,82\n",
      "253,13 -> 253,546\n",
      "578,60 -> 900,\n"
     ]
    }
   ],
   "source": [
    "with open('input_day5_prd.txt', 'rt') as f:\n",
    "    input_raw=f.read() #[x for x in f.read().split('\\n') if x != '']\n",
    "print(input_raw[0:50])"
   ]
  },
  {
   "cell_type": "code",
   "execution_count": 19,
   "id": "05781e15-2b70-4c69-94d8-e2c95584fd8e",
   "metadata": {},
   "outputs": [
    {
     "data": {
      "text/plain": [
       "['905,103 -> 905,82',\n",
       " '253,13 -> 253,546',\n",
       " '578,60 -> 900,60',\n",
       " '102,71 -> 535,71',\n",
       " '678,419 -> 678,363',\n",
       " '366,938 -> 366,136',\n",
       " '15,299 -> 149,165',\n",
       " '445,99 -> 464,80',\n",
       " '519,262 -> 814,262',\n",
       " '687,609 -> 687,219']"
      ]
     },
     "execution_count": 19,
     "metadata": {},
     "output_type": "execute_result"
    }
   ],
   "source": [
    "input=[l for l in input_raw.splitlines() if l != '']\n",
    "input[0:10]"
   ]
  },
  {
   "cell_type": "code",
   "execution_count": 20,
   "id": "cc64505e-539c-411c-a756-cc6d360d5815",
   "metadata": {},
   "outputs": [
    {
     "data": {
      "text/plain": [
       "[[905, 103, 905, 82],\n",
       " [253, 13, 253, 546],\n",
       " [578, 60, 900, 60],\n",
       " [102, 71, 535, 71],\n",
       " [678, 419, 678, 363],\n",
       " [366, 938, 366, 136],\n",
       " [15, 299, 149, 165],\n",
       " [445, 99, 464, 80],\n",
       " [519, 262, 814, 262],\n",
       " [687, 609, 687, 219]]"
      ]
     },
     "execution_count": 20,
     "metadata": {},
     "output_type": "execute_result"
    }
   ],
   "source": [
    "input_list=[[int(x) for x in re.findall(r'[0-9]+', r)] for r in input]\n",
    "input_list[0:10]"
   ]
  },
  {
   "cell_type": "code",
   "execution_count": 21,
   "id": "a19394a4-c8d1-4d52-b09c-afe014f0519e",
   "metadata": {},
   "outputs": [
    {
     "data": {
      "text/plain": [
       "990"
      ]
     },
     "execution_count": 21,
     "metadata": {},
     "output_type": "execute_result"
    }
   ],
   "source": [
    "n=max(max(x for x in r) for r in input_list)+1\n",
    "n"
   ]
  },
  {
   "cell_type": "code",
   "execution_count": 22,
   "id": "0e8ba1af-ad42-431b-906a-bbeb62a5d0d2",
   "metadata": {},
   "outputs": [
    {
     "data": {
      "text/plain": [
       "6267"
      ]
     },
     "execution_count": 22,
     "metadata": {},
     "output_type": "execute_result"
    }
   ],
   "source": [
    "field=np.zeros((n, n))\n",
    "for r in [[int(x) for x in re.findall(r'[0-9]+', r)] for r in input]:\n",
    "    if r[0]==r[2]: # vertical\n",
    "        for y in range(min(r[1], r[3]), max(r[1], r[3])+1):\n",
    "            field[r[0], y]+=1\n",
    "    elif r[1]==r[3]: # horizontal\n",
    "        for x in range(min(r[0], r[2]), max(r[0], r[2])+1):\n",
    "            field[x, r[1]]+=1\n",
    "    else: \n",
    "        pass #We do not consider lines that are neither vertical nor horizontal\n",
    "\n",
    "(field>1).sum()"
   ]
  },
  {
   "cell_type": "code",
   "execution_count": 23,
   "id": "323ad03d-22a0-47a2-8128-a9eda60b0091",
   "metadata": {},
   "outputs": [],
   "source": [
    "# Part2"
   ]
  },
  {
   "cell_type": "code",
   "execution_count": 24,
   "id": "b5c9c8d7-e06c-4da4-8d05-44ad7ad53ecf",
   "metadata": {},
   "outputs": [
    {
     "data": {
      "text/plain": [
       "20196"
      ]
     },
     "execution_count": 24,
     "metadata": {},
     "output_type": "execute_result"
    }
   ],
   "source": [
    "field=np.zeros((n, n))\n",
    "for r in [[int(x) for x in re.findall(r'[0-9]+', r)] for r in input]:\n",
    "    if r[0]==r[2]: # vertical\n",
    "        for y in range(min(r[1], r[3]), max(r[1], r[3])+1):\n",
    "            field[r[0], y]+=1\n",
    "    elif r[1]==r[3]: # horizontal\n",
    "        for x in range(min(r[0], r[2]), max(r[0], r[2])+1):\n",
    "            field[x, r[1]]+=1\n",
    "    else: # diag\n",
    "        if r[0]>r[2]: # make it all left-to-right\n",
    "            r=[r[2], r[3], r[0], r[1]]\n",
    "        \n",
    "        if r[1]<r[3]: # Diag up\n",
    "            for i in range(r[2]-r[0]+1):\n",
    "                field[r[0]+i, r[1]+i]+=1\n",
    "        else: # diag down\n",
    "            for i in range(r[2]-r[0]+1):\n",
    "                field[r[0]+i, r[1]-i]+=1\n",
    "\n",
    "(field>1).sum()"
   ]
  },
  {
   "cell_type": "code",
   "execution_count": null,
   "id": "41865e82-2bb2-4258-b07a-6b9bc60d15e6",
   "metadata": {},
   "outputs": [],
   "source": []
  }
 ],
 "metadata": {
  "kernelspec": {
   "display_name": "Python 3 (ipykernel)",
   "language": "python",
   "name": "python3"
  },
  "language_info": {
   "codemirror_mode": {
    "name": "ipython",
    "version": 3
   },
   "file_extension": ".py",
   "mimetype": "text/x-python",
   "name": "python",
   "nbconvert_exporter": "python",
   "pygments_lexer": "ipython3",
   "version": "3.10.0"
  }
 },
 "nbformat": 4,
 "nbformat_minor": 5
}
